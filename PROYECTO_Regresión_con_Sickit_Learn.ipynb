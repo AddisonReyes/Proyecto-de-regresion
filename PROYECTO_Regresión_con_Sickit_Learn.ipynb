{
  "nbformat": 4,
  "nbformat_minor": 0,
  "metadata": {
    "colab": {
      "provenance": []
    },
    "kernelspec": {
      "name": "python3",
      "display_name": "Python 3"
    },
    "language_info": {
      "name": "python"
    }
  },
  "cells": [
    {
      "cell_type": "markdown",
      "source": [
        "Dataset: https://www.kaggle.com/datasets/iabhishekofficial/mobile-price-classification?select=train.csv"
      ],
      "metadata": {
        "id": "SGz-0HvCx4Y9"
      }
    },
    {
      "cell_type": "markdown",
      "source": [
        "## Librerias"
      ],
      "metadata": {
        "id": "jBdPydsG2phg"
      }
    },
    {
      "cell_type": "code",
      "source": [
        "pip -q install dataprep"
      ],
      "metadata": {
        "colab": {
          "base_uri": "https://localhost:8080/"
        },
        "id": "tLopGAhHMsSY",
        "outputId": "b2d7e1de-660c-4a40-894b-3920d0486def"
      },
      "execution_count": 1,
      "outputs": [
        {
          "output_type": "stream",
          "name": "stdout",
          "text": [
            "\u001b[2K     \u001b[90m━━━━━━━━━━━━━━━━━━━━━━━━━━━━━━━━━━━━━━━━\u001b[0m \u001b[32m9.9/9.9 MB\u001b[0m \u001b[31m25.3 MB/s\u001b[0m eta \u001b[36m0:00:00\u001b[0m\n",
            "\u001b[2K     \u001b[90m━━━━━━━━━━━━━━━━━━━━━━━━━━━━━━━━━━━━━━━━\u001b[0m \u001b[32m1.3/1.3 MB\u001b[0m \u001b[31m15.4 MB/s\u001b[0m eta \u001b[36m0:00:00\u001b[0m\n",
            "\u001b[2K     \u001b[90m━━━━━━━━━━━━━━━━━━━━━━━━━━━━━━━━━━━━━━━\u001b[0m \u001b[32m764.7/764.7 KB\u001b[0m \u001b[31m7.8 MB/s\u001b[0m eta \u001b[36m0:00:00\u001b[0m\n",
            "\u001b[2K     \u001b[90m━━━━━━━━━━━━━━━━━━━━━━━━━━━━━━━━━━━━━━━━\u001b[0m \u001b[32m34.5/34.5 MB\u001b[0m \u001b[31m13.3 MB/s\u001b[0m eta \u001b[36m0:00:00\u001b[0m\n",
            "\u001b[2K     \u001b[90m━━━━━━━━━━━━━━━━━━━━━━━━━━━━━━━━━━━━━━━━\u001b[0m \u001b[32m1.2/1.2 MB\u001b[0m \u001b[31m36.6 MB/s\u001b[0m eta \u001b[36m0:00:00\u001b[0m\n",
            "\u001b[2K     \u001b[90m━━━━━━━━━━━━━━━━━━━━━━━━━━━━━━━━━━━━━━━━\u001b[0m \u001b[32m2.2/2.2 MB\u001b[0m \u001b[31m21.5 MB/s\u001b[0m eta \u001b[36m0:00:00\u001b[0m\n",
            "\u001b[2K     \u001b[90m━━━━━━━━━━━━━━━━━━━━━━━━━━━━━━━━━━━━━━\u001b[0m \u001b[32m133.6/133.6 KB\u001b[0m \u001b[31m15.8 MB/s\u001b[0m eta \u001b[36m0:00:00\u001b[0m\n",
            "\u001b[2K     \u001b[90m━━━━━━━━━━━━━━━━━━━━━━━━━━━━━━━━━━━━━━━━\u001b[0m \u001b[32m1.0/1.0 MB\u001b[0m \u001b[31m55.6 MB/s\u001b[0m eta \u001b[36m0:00:00\u001b[0m\n",
            "\u001b[2K     \u001b[90m━━━━━━━━━━━━━━━━━━━━━━━━━━━━━━━━━━━━━━━━\u001b[0m \u001b[32m1.0/1.0 MB\u001b[0m \u001b[31m42.8 MB/s\u001b[0m eta \u001b[36m0:00:00\u001b[0m\n",
            "\u001b[?25h  Preparing metadata (setup.py) ... \u001b[?25l\u001b[?25hdone\n",
            "\u001b[2K     \u001b[90m━━━━━━━━━━━━━━━━━━━━━━━━━━━━━━━━━━━━━━━━\u001b[0m \u001b[32m49.6/49.6 KB\u001b[0m \u001b[31m6.0 MB/s\u001b[0m eta \u001b[36m0:00:00\u001b[0m\n",
            "\u001b[2K     \u001b[90m━━━━━━━━━━━━━━━━━━━━━━━━━━━━━━━━━━━━━━━━\u001b[0m \u001b[32m1.6/1.6 MB\u001b[0m \u001b[31m87.1 MB/s\u001b[0m eta \u001b[36m0:00:00\u001b[0m\n",
            "\u001b[?25h  Building wheel for metaphone (setup.py) ... \u001b[?25l\u001b[?25hdone\n",
            "\u001b[31mERROR: pip's dependency resolver does not currently take into account all the packages that are installed. This behaviour is the source of the following dependency conflicts.\n",
            "distributed 2022.2.1 requires dask==2022.02.1, but you have dask 2023.2.1 which is incompatible.\u001b[0m\u001b[31m\n",
            "\u001b[0m"
          ]
        }
      ]
    },
    {
      "cell_type": "code",
      "source": [
        "pip -q install shap"
      ],
      "metadata": {
        "colab": {
          "base_uri": "https://localhost:8080/"
        },
        "id": "dlGuy8nF67Pp",
        "outputId": "459ba7f8-298d-4c11-9fb8-33cc816a5d94"
      },
      "execution_count": 2,
      "outputs": [
        {
          "output_type": "stream",
          "name": "stdout",
          "text": [
            "\u001b[?25l     \u001b[90m━━━━━━━━━━━━━━━━━━━━━━━━━━━━━━━━━━━━━━━━\u001b[0m \u001b[32m0.0/575.9 KB\u001b[0m \u001b[31m?\u001b[0m eta \u001b[36m-:--:--\u001b[0m\r\u001b[2K     \u001b[91m━━━━━━━━━━━━━━━━━━\u001b[0m\u001b[91m╸\u001b[0m\u001b[90m━━━━━━━━━━━━━━━━━━━━\u001b[0m \u001b[32m276.5/575.9 KB\u001b[0m \u001b[31m8.7 MB/s\u001b[0m eta \u001b[36m0:00:01\u001b[0m\r\u001b[2K     \u001b[90m━━━━━━━━━━━━━━━━━━━━━━━━━━━━━━━━━━━━━━\u001b[0m \u001b[32m575.9/575.9 KB\u001b[0m \u001b[31m10.1 MB/s\u001b[0m eta \u001b[36m0:00:00\u001b[0m\n",
            "\u001b[?25h"
          ]
        }
      ]
    },
    {
      "cell_type": "code",
      "execution_count": 3,
      "metadata": {
        "id": "5s90zcBxwE1v"
      },
      "outputs": [],
      "source": [
        "from sklearn.linear_model import LinearRegression, Ridge, BayesianRidge, Lasso\n",
        "from sklearn.model_selection import train_test_split, cross_val_score\n",
        "from sklearn.preprocessing import OneHotEncoder, StandardScaler\n",
        "from sklearn.compose import make_column_transformer\n",
        "from sklearn.ensemble import RandomForestRegressor\n",
        "from sklearn.neighbors import KNeighborsRegressor\n",
        "from sklearn.neural_network import MLPRegressor\n",
        "from sklearn.pipeline import make_pipeline\n",
        "from dataprep.eda import create_report\n",
        "from sklearn.metrics import r2_score\n",
        "from sklearn.utils import resample\n",
        "import matplotlib.pyplot as plt\n",
        "from sklearn.svm import SVR\n",
        "import seaborn as sns\n",
        "import pandas as pd\n",
        "import numpy as np\n",
        "import random\n",
        "import pickle\n",
        "import shap"
      ]
    },
    {
      "cell_type": "markdown",
      "source": [
        "## Recoleccion de data"
      ],
      "metadata": {
        "id": "beq79nDQ2urK"
      }
    },
    {
      "cell_type": "code",
      "source": [
        "df = pd.read_csv('/content/mobile_prices.csv')\n",
        "df.head(5)"
      ],
      "metadata": {
        "colab": {
          "base_uri": "https://localhost:8080/",
          "height": 300
        },
        "id": "ixp4LbPMy3xD",
        "outputId": "4fda3e08-b517-44cb-823b-02d806e54733"
      },
      "execution_count": 4,
      "outputs": [
        {
          "output_type": "execute_result",
          "data": {
            "text/plain": [
              "   battery_power  blue  clock_speed  dual_sim  fc  four_g  int_memory  m_dep  \\\n",
              "0            842     0          2.2         0   1       0           7    0.6   \n",
              "1           1021     1          0.5         1   0       1          53    0.7   \n",
              "2            563     1          0.5         1   2       1          41    0.9   \n",
              "3            615     1          2.5         0   0       0          10    0.8   \n",
              "4           1821     1          1.2         0  13       1          44    0.6   \n",
              "\n",
              "   mobile_wt  n_cores  ...  px_height  px_width   ram  sc_h  sc_w  talk_time  \\\n",
              "0        188        2  ...         20       756  2549     9     7         19   \n",
              "1        136        3  ...        905      1988  2631    17     3          7   \n",
              "2        145        5  ...       1263      1716  2603    11     2          9   \n",
              "3        131        6  ...       1216      1786  2769    16     8         11   \n",
              "4        141        2  ...       1208      1212  1411     8     2         15   \n",
              "\n",
              "   three_g  touch_screen  wifi  price_range  \n",
              "0        0             0     1            1  \n",
              "1        1             1     0            2  \n",
              "2        1             1     0            2  \n",
              "3        1             0     0            2  \n",
              "4        1             1     0            1  \n",
              "\n",
              "[5 rows x 21 columns]"
            ],
            "text/html": [
              "\n",
              "  <div id=\"df-df4a3160-3b42-4063-85bc-aca8043da757\">\n",
              "    <div class=\"colab-df-container\">\n",
              "      <div>\n",
              "<style scoped>\n",
              "    .dataframe tbody tr th:only-of-type {\n",
              "        vertical-align: middle;\n",
              "    }\n",
              "\n",
              "    .dataframe tbody tr th {\n",
              "        vertical-align: top;\n",
              "    }\n",
              "\n",
              "    .dataframe thead th {\n",
              "        text-align: right;\n",
              "    }\n",
              "</style>\n",
              "<table border=\"1\" class=\"dataframe\">\n",
              "  <thead>\n",
              "    <tr style=\"text-align: right;\">\n",
              "      <th></th>\n",
              "      <th>battery_power</th>\n",
              "      <th>blue</th>\n",
              "      <th>clock_speed</th>\n",
              "      <th>dual_sim</th>\n",
              "      <th>fc</th>\n",
              "      <th>four_g</th>\n",
              "      <th>int_memory</th>\n",
              "      <th>m_dep</th>\n",
              "      <th>mobile_wt</th>\n",
              "      <th>n_cores</th>\n",
              "      <th>...</th>\n",
              "      <th>px_height</th>\n",
              "      <th>px_width</th>\n",
              "      <th>ram</th>\n",
              "      <th>sc_h</th>\n",
              "      <th>sc_w</th>\n",
              "      <th>talk_time</th>\n",
              "      <th>three_g</th>\n",
              "      <th>touch_screen</th>\n",
              "      <th>wifi</th>\n",
              "      <th>price_range</th>\n",
              "    </tr>\n",
              "  </thead>\n",
              "  <tbody>\n",
              "    <tr>\n",
              "      <th>0</th>\n",
              "      <td>842</td>\n",
              "      <td>0</td>\n",
              "      <td>2.2</td>\n",
              "      <td>0</td>\n",
              "      <td>1</td>\n",
              "      <td>0</td>\n",
              "      <td>7</td>\n",
              "      <td>0.6</td>\n",
              "      <td>188</td>\n",
              "      <td>2</td>\n",
              "      <td>...</td>\n",
              "      <td>20</td>\n",
              "      <td>756</td>\n",
              "      <td>2549</td>\n",
              "      <td>9</td>\n",
              "      <td>7</td>\n",
              "      <td>19</td>\n",
              "      <td>0</td>\n",
              "      <td>0</td>\n",
              "      <td>1</td>\n",
              "      <td>1</td>\n",
              "    </tr>\n",
              "    <tr>\n",
              "      <th>1</th>\n",
              "      <td>1021</td>\n",
              "      <td>1</td>\n",
              "      <td>0.5</td>\n",
              "      <td>1</td>\n",
              "      <td>0</td>\n",
              "      <td>1</td>\n",
              "      <td>53</td>\n",
              "      <td>0.7</td>\n",
              "      <td>136</td>\n",
              "      <td>3</td>\n",
              "      <td>...</td>\n",
              "      <td>905</td>\n",
              "      <td>1988</td>\n",
              "      <td>2631</td>\n",
              "      <td>17</td>\n",
              "      <td>3</td>\n",
              "      <td>7</td>\n",
              "      <td>1</td>\n",
              "      <td>1</td>\n",
              "      <td>0</td>\n",
              "      <td>2</td>\n",
              "    </tr>\n",
              "    <tr>\n",
              "      <th>2</th>\n",
              "      <td>563</td>\n",
              "      <td>1</td>\n",
              "      <td>0.5</td>\n",
              "      <td>1</td>\n",
              "      <td>2</td>\n",
              "      <td>1</td>\n",
              "      <td>41</td>\n",
              "      <td>0.9</td>\n",
              "      <td>145</td>\n",
              "      <td>5</td>\n",
              "      <td>...</td>\n",
              "      <td>1263</td>\n",
              "      <td>1716</td>\n",
              "      <td>2603</td>\n",
              "      <td>11</td>\n",
              "      <td>2</td>\n",
              "      <td>9</td>\n",
              "      <td>1</td>\n",
              "      <td>1</td>\n",
              "      <td>0</td>\n",
              "      <td>2</td>\n",
              "    </tr>\n",
              "    <tr>\n",
              "      <th>3</th>\n",
              "      <td>615</td>\n",
              "      <td>1</td>\n",
              "      <td>2.5</td>\n",
              "      <td>0</td>\n",
              "      <td>0</td>\n",
              "      <td>0</td>\n",
              "      <td>10</td>\n",
              "      <td>0.8</td>\n",
              "      <td>131</td>\n",
              "      <td>6</td>\n",
              "      <td>...</td>\n",
              "      <td>1216</td>\n",
              "      <td>1786</td>\n",
              "      <td>2769</td>\n",
              "      <td>16</td>\n",
              "      <td>8</td>\n",
              "      <td>11</td>\n",
              "      <td>1</td>\n",
              "      <td>0</td>\n",
              "      <td>0</td>\n",
              "      <td>2</td>\n",
              "    </tr>\n",
              "    <tr>\n",
              "      <th>4</th>\n",
              "      <td>1821</td>\n",
              "      <td>1</td>\n",
              "      <td>1.2</td>\n",
              "      <td>0</td>\n",
              "      <td>13</td>\n",
              "      <td>1</td>\n",
              "      <td>44</td>\n",
              "      <td>0.6</td>\n",
              "      <td>141</td>\n",
              "      <td>2</td>\n",
              "      <td>...</td>\n",
              "      <td>1208</td>\n",
              "      <td>1212</td>\n",
              "      <td>1411</td>\n",
              "      <td>8</td>\n",
              "      <td>2</td>\n",
              "      <td>15</td>\n",
              "      <td>1</td>\n",
              "      <td>1</td>\n",
              "      <td>0</td>\n",
              "      <td>1</td>\n",
              "    </tr>\n",
              "  </tbody>\n",
              "</table>\n",
              "<p>5 rows × 21 columns</p>\n",
              "</div>\n",
              "      <button class=\"colab-df-convert\" onclick=\"convertToInteractive('df-df4a3160-3b42-4063-85bc-aca8043da757')\"\n",
              "              title=\"Convert this dataframe to an interactive table.\"\n",
              "              style=\"display:none;\">\n",
              "        \n",
              "  <svg xmlns=\"http://www.w3.org/2000/svg\" height=\"24px\"viewBox=\"0 0 24 24\"\n",
              "       width=\"24px\">\n",
              "    <path d=\"M0 0h24v24H0V0z\" fill=\"none\"/>\n",
              "    <path d=\"M18.56 5.44l.94 2.06.94-2.06 2.06-.94-2.06-.94-.94-2.06-.94 2.06-2.06.94zm-11 1L8.5 8.5l.94-2.06 2.06-.94-2.06-.94L8.5 2.5l-.94 2.06-2.06.94zm10 10l.94 2.06.94-2.06 2.06-.94-2.06-.94-.94-2.06-.94 2.06-2.06.94z\"/><path d=\"M17.41 7.96l-1.37-1.37c-.4-.4-.92-.59-1.43-.59-.52 0-1.04.2-1.43.59L10.3 9.45l-7.72 7.72c-.78.78-.78 2.05 0 2.83L4 21.41c.39.39.9.59 1.41.59.51 0 1.02-.2 1.41-.59l7.78-7.78 2.81-2.81c.8-.78.8-2.07 0-2.86zM5.41 20L4 18.59l7.72-7.72 1.47 1.35L5.41 20z\"/>\n",
              "  </svg>\n",
              "      </button>\n",
              "      \n",
              "  <style>\n",
              "    .colab-df-container {\n",
              "      display:flex;\n",
              "      flex-wrap:wrap;\n",
              "      gap: 12px;\n",
              "    }\n",
              "\n",
              "    .colab-df-convert {\n",
              "      background-color: #E8F0FE;\n",
              "      border: none;\n",
              "      border-radius: 50%;\n",
              "      cursor: pointer;\n",
              "      display: none;\n",
              "      fill: #1967D2;\n",
              "      height: 32px;\n",
              "      padding: 0 0 0 0;\n",
              "      width: 32px;\n",
              "    }\n",
              "\n",
              "    .colab-df-convert:hover {\n",
              "      background-color: #E2EBFA;\n",
              "      box-shadow: 0px 1px 2px rgba(60, 64, 67, 0.3), 0px 1px 3px 1px rgba(60, 64, 67, 0.15);\n",
              "      fill: #174EA6;\n",
              "    }\n",
              "\n",
              "    [theme=dark] .colab-df-convert {\n",
              "      background-color: #3B4455;\n",
              "      fill: #D2E3FC;\n",
              "    }\n",
              "\n",
              "    [theme=dark] .colab-df-convert:hover {\n",
              "      background-color: #434B5C;\n",
              "      box-shadow: 0px 1px 3px 1px rgba(0, 0, 0, 0.15);\n",
              "      filter: drop-shadow(0px 1px 2px rgba(0, 0, 0, 0.3));\n",
              "      fill: #FFFFFF;\n",
              "    }\n",
              "  </style>\n",
              "\n",
              "      <script>\n",
              "        const buttonEl =\n",
              "          document.querySelector('#df-df4a3160-3b42-4063-85bc-aca8043da757 button.colab-df-convert');\n",
              "        buttonEl.style.display =\n",
              "          google.colab.kernel.accessAllowed ? 'block' : 'none';\n",
              "\n",
              "        async function convertToInteractive(key) {\n",
              "          const element = document.querySelector('#df-df4a3160-3b42-4063-85bc-aca8043da757');\n",
              "          const dataTable =\n",
              "            await google.colab.kernel.invokeFunction('convertToInteractive',\n",
              "                                                     [key], {});\n",
              "          if (!dataTable) return;\n",
              "\n",
              "          const docLinkHtml = 'Like what you see? Visit the ' +\n",
              "            '<a target=\"_blank\" href=https://colab.research.google.com/notebooks/data_table.ipynb>data table notebook</a>'\n",
              "            + ' to learn more about interactive tables.';\n",
              "          element.innerHTML = '';\n",
              "          dataTable['output_type'] = 'display_data';\n",
              "          await google.colab.output.renderOutput(dataTable, element);\n",
              "          const docLink = document.createElement('div');\n",
              "          docLink.innerHTML = docLinkHtml;\n",
              "          element.appendChild(docLink);\n",
              "        }\n",
              "      </script>\n",
              "    </div>\n",
              "  </div>\n",
              "  "
            ]
          },
          "metadata": {},
          "execution_count": 4
        }
      ]
    },
    {
      "cell_type": "markdown",
      "source": [
        "## Preparacion y Preprocesamiento de la data"
      ],
      "metadata": {
        "id": "qhGnsJ_x25N7"
      }
    },
    {
      "cell_type": "code",
      "source": [
        "df"
      ],
      "metadata": {
        "colab": {
          "base_uri": "https://localhost:8080/",
          "height": 488
        },
        "id": "eHzsb3Ch4-9s",
        "outputId": "f66fe037-87b1-4157-fe74-f54d4dd0f156"
      },
      "execution_count": 5,
      "outputs": [
        {
          "output_type": "execute_result",
          "data": {
            "text/plain": [
              "      battery_power  blue  clock_speed  dual_sim  fc  four_g  int_memory  \\\n",
              "0               842     0          2.2         0   1       0           7   \n",
              "1              1021     1          0.5         1   0       1          53   \n",
              "2               563     1          0.5         1   2       1          41   \n",
              "3               615     1          2.5         0   0       0          10   \n",
              "4              1821     1          1.2         0  13       1          44   \n",
              "...             ...   ...          ...       ...  ..     ...         ...   \n",
              "1995            794     1          0.5         1   0       1           2   \n",
              "1996           1965     1          2.6         1   0       0          39   \n",
              "1997           1911     0          0.9         1   1       1          36   \n",
              "1998           1512     0          0.9         0   4       1          46   \n",
              "1999            510     1          2.0         1   5       1          45   \n",
              "\n",
              "      m_dep  mobile_wt  n_cores  ...  px_height  px_width   ram  sc_h  sc_w  \\\n",
              "0       0.6        188        2  ...         20       756  2549     9     7   \n",
              "1       0.7        136        3  ...        905      1988  2631    17     3   \n",
              "2       0.9        145        5  ...       1263      1716  2603    11     2   \n",
              "3       0.8        131        6  ...       1216      1786  2769    16     8   \n",
              "4       0.6        141        2  ...       1208      1212  1411     8     2   \n",
              "...     ...        ...      ...  ...        ...       ...   ...   ...   ...   \n",
              "1995    0.8        106        6  ...       1222      1890   668    13     4   \n",
              "1996    0.2        187        4  ...        915      1965  2032    11    10   \n",
              "1997    0.7        108        8  ...        868      1632  3057     9     1   \n",
              "1998    0.1        145        5  ...        336       670   869    18    10   \n",
              "1999    0.9        168        6  ...        483       754  3919    19     4   \n",
              "\n",
              "      talk_time  three_g  touch_screen  wifi  price_range  \n",
              "0            19        0             0     1            1  \n",
              "1             7        1             1     0            2  \n",
              "2             9        1             1     0            2  \n",
              "3            11        1             0     0            2  \n",
              "4            15        1             1     0            1  \n",
              "...         ...      ...           ...   ...          ...  \n",
              "1995         19        1             1     0            0  \n",
              "1996         16        1             1     1            2  \n",
              "1997          5        1             1     0            3  \n",
              "1998         19        1             1     1            0  \n",
              "1999          2        1             1     1            3  \n",
              "\n",
              "[2000 rows x 21 columns]"
            ],
            "text/html": [
              "\n",
              "  <div id=\"df-af84b951-8fc4-401c-8716-88b95736f5b5\">\n",
              "    <div class=\"colab-df-container\">\n",
              "      <div>\n",
              "<style scoped>\n",
              "    .dataframe tbody tr th:only-of-type {\n",
              "        vertical-align: middle;\n",
              "    }\n",
              "\n",
              "    .dataframe tbody tr th {\n",
              "        vertical-align: top;\n",
              "    }\n",
              "\n",
              "    .dataframe thead th {\n",
              "        text-align: right;\n",
              "    }\n",
              "</style>\n",
              "<table border=\"1\" class=\"dataframe\">\n",
              "  <thead>\n",
              "    <tr style=\"text-align: right;\">\n",
              "      <th></th>\n",
              "      <th>battery_power</th>\n",
              "      <th>blue</th>\n",
              "      <th>clock_speed</th>\n",
              "      <th>dual_sim</th>\n",
              "      <th>fc</th>\n",
              "      <th>four_g</th>\n",
              "      <th>int_memory</th>\n",
              "      <th>m_dep</th>\n",
              "      <th>mobile_wt</th>\n",
              "      <th>n_cores</th>\n",
              "      <th>...</th>\n",
              "      <th>px_height</th>\n",
              "      <th>px_width</th>\n",
              "      <th>ram</th>\n",
              "      <th>sc_h</th>\n",
              "      <th>sc_w</th>\n",
              "      <th>talk_time</th>\n",
              "      <th>three_g</th>\n",
              "      <th>touch_screen</th>\n",
              "      <th>wifi</th>\n",
              "      <th>price_range</th>\n",
              "    </tr>\n",
              "  </thead>\n",
              "  <tbody>\n",
              "    <tr>\n",
              "      <th>0</th>\n",
              "      <td>842</td>\n",
              "      <td>0</td>\n",
              "      <td>2.2</td>\n",
              "      <td>0</td>\n",
              "      <td>1</td>\n",
              "      <td>0</td>\n",
              "      <td>7</td>\n",
              "      <td>0.6</td>\n",
              "      <td>188</td>\n",
              "      <td>2</td>\n",
              "      <td>...</td>\n",
              "      <td>20</td>\n",
              "      <td>756</td>\n",
              "      <td>2549</td>\n",
              "      <td>9</td>\n",
              "      <td>7</td>\n",
              "      <td>19</td>\n",
              "      <td>0</td>\n",
              "      <td>0</td>\n",
              "      <td>1</td>\n",
              "      <td>1</td>\n",
              "    </tr>\n",
              "    <tr>\n",
              "      <th>1</th>\n",
              "      <td>1021</td>\n",
              "      <td>1</td>\n",
              "      <td>0.5</td>\n",
              "      <td>1</td>\n",
              "      <td>0</td>\n",
              "      <td>1</td>\n",
              "      <td>53</td>\n",
              "      <td>0.7</td>\n",
              "      <td>136</td>\n",
              "      <td>3</td>\n",
              "      <td>...</td>\n",
              "      <td>905</td>\n",
              "      <td>1988</td>\n",
              "      <td>2631</td>\n",
              "      <td>17</td>\n",
              "      <td>3</td>\n",
              "      <td>7</td>\n",
              "      <td>1</td>\n",
              "      <td>1</td>\n",
              "      <td>0</td>\n",
              "      <td>2</td>\n",
              "    </tr>\n",
              "    <tr>\n",
              "      <th>2</th>\n",
              "      <td>563</td>\n",
              "      <td>1</td>\n",
              "      <td>0.5</td>\n",
              "      <td>1</td>\n",
              "      <td>2</td>\n",
              "      <td>1</td>\n",
              "      <td>41</td>\n",
              "      <td>0.9</td>\n",
              "      <td>145</td>\n",
              "      <td>5</td>\n",
              "      <td>...</td>\n",
              "      <td>1263</td>\n",
              "      <td>1716</td>\n",
              "      <td>2603</td>\n",
              "      <td>11</td>\n",
              "      <td>2</td>\n",
              "      <td>9</td>\n",
              "      <td>1</td>\n",
              "      <td>1</td>\n",
              "      <td>0</td>\n",
              "      <td>2</td>\n",
              "    </tr>\n",
              "    <tr>\n",
              "      <th>3</th>\n",
              "      <td>615</td>\n",
              "      <td>1</td>\n",
              "      <td>2.5</td>\n",
              "      <td>0</td>\n",
              "      <td>0</td>\n",
              "      <td>0</td>\n",
              "      <td>10</td>\n",
              "      <td>0.8</td>\n",
              "      <td>131</td>\n",
              "      <td>6</td>\n",
              "      <td>...</td>\n",
              "      <td>1216</td>\n",
              "      <td>1786</td>\n",
              "      <td>2769</td>\n",
              "      <td>16</td>\n",
              "      <td>8</td>\n",
              "      <td>11</td>\n",
              "      <td>1</td>\n",
              "      <td>0</td>\n",
              "      <td>0</td>\n",
              "      <td>2</td>\n",
              "    </tr>\n",
              "    <tr>\n",
              "      <th>4</th>\n",
              "      <td>1821</td>\n",
              "      <td>1</td>\n",
              "      <td>1.2</td>\n",
              "      <td>0</td>\n",
              "      <td>13</td>\n",
              "      <td>1</td>\n",
              "      <td>44</td>\n",
              "      <td>0.6</td>\n",
              "      <td>141</td>\n",
              "      <td>2</td>\n",
              "      <td>...</td>\n",
              "      <td>1208</td>\n",
              "      <td>1212</td>\n",
              "      <td>1411</td>\n",
              "      <td>8</td>\n",
              "      <td>2</td>\n",
              "      <td>15</td>\n",
              "      <td>1</td>\n",
              "      <td>1</td>\n",
              "      <td>0</td>\n",
              "      <td>1</td>\n",
              "    </tr>\n",
              "    <tr>\n",
              "      <th>...</th>\n",
              "      <td>...</td>\n",
              "      <td>...</td>\n",
              "      <td>...</td>\n",
              "      <td>...</td>\n",
              "      <td>...</td>\n",
              "      <td>...</td>\n",
              "      <td>...</td>\n",
              "      <td>...</td>\n",
              "      <td>...</td>\n",
              "      <td>...</td>\n",
              "      <td>...</td>\n",
              "      <td>...</td>\n",
              "      <td>...</td>\n",
              "      <td>...</td>\n",
              "      <td>...</td>\n",
              "      <td>...</td>\n",
              "      <td>...</td>\n",
              "      <td>...</td>\n",
              "      <td>...</td>\n",
              "      <td>...</td>\n",
              "      <td>...</td>\n",
              "    </tr>\n",
              "    <tr>\n",
              "      <th>1995</th>\n",
              "      <td>794</td>\n",
              "      <td>1</td>\n",
              "      <td>0.5</td>\n",
              "      <td>1</td>\n",
              "      <td>0</td>\n",
              "      <td>1</td>\n",
              "      <td>2</td>\n",
              "      <td>0.8</td>\n",
              "      <td>106</td>\n",
              "      <td>6</td>\n",
              "      <td>...</td>\n",
              "      <td>1222</td>\n",
              "      <td>1890</td>\n",
              "      <td>668</td>\n",
              "      <td>13</td>\n",
              "      <td>4</td>\n",
              "      <td>19</td>\n",
              "      <td>1</td>\n",
              "      <td>1</td>\n",
              "      <td>0</td>\n",
              "      <td>0</td>\n",
              "    </tr>\n",
              "    <tr>\n",
              "      <th>1996</th>\n",
              "      <td>1965</td>\n",
              "      <td>1</td>\n",
              "      <td>2.6</td>\n",
              "      <td>1</td>\n",
              "      <td>0</td>\n",
              "      <td>0</td>\n",
              "      <td>39</td>\n",
              "      <td>0.2</td>\n",
              "      <td>187</td>\n",
              "      <td>4</td>\n",
              "      <td>...</td>\n",
              "      <td>915</td>\n",
              "      <td>1965</td>\n",
              "      <td>2032</td>\n",
              "      <td>11</td>\n",
              "      <td>10</td>\n",
              "      <td>16</td>\n",
              "      <td>1</td>\n",
              "      <td>1</td>\n",
              "      <td>1</td>\n",
              "      <td>2</td>\n",
              "    </tr>\n",
              "    <tr>\n",
              "      <th>1997</th>\n",
              "      <td>1911</td>\n",
              "      <td>0</td>\n",
              "      <td>0.9</td>\n",
              "      <td>1</td>\n",
              "      <td>1</td>\n",
              "      <td>1</td>\n",
              "      <td>36</td>\n",
              "      <td>0.7</td>\n",
              "      <td>108</td>\n",
              "      <td>8</td>\n",
              "      <td>...</td>\n",
              "      <td>868</td>\n",
              "      <td>1632</td>\n",
              "      <td>3057</td>\n",
              "      <td>9</td>\n",
              "      <td>1</td>\n",
              "      <td>5</td>\n",
              "      <td>1</td>\n",
              "      <td>1</td>\n",
              "      <td>0</td>\n",
              "      <td>3</td>\n",
              "    </tr>\n",
              "    <tr>\n",
              "      <th>1998</th>\n",
              "      <td>1512</td>\n",
              "      <td>0</td>\n",
              "      <td>0.9</td>\n",
              "      <td>0</td>\n",
              "      <td>4</td>\n",
              "      <td>1</td>\n",
              "      <td>46</td>\n",
              "      <td>0.1</td>\n",
              "      <td>145</td>\n",
              "      <td>5</td>\n",
              "      <td>...</td>\n",
              "      <td>336</td>\n",
              "      <td>670</td>\n",
              "      <td>869</td>\n",
              "      <td>18</td>\n",
              "      <td>10</td>\n",
              "      <td>19</td>\n",
              "      <td>1</td>\n",
              "      <td>1</td>\n",
              "      <td>1</td>\n",
              "      <td>0</td>\n",
              "    </tr>\n",
              "    <tr>\n",
              "      <th>1999</th>\n",
              "      <td>510</td>\n",
              "      <td>1</td>\n",
              "      <td>2.0</td>\n",
              "      <td>1</td>\n",
              "      <td>5</td>\n",
              "      <td>1</td>\n",
              "      <td>45</td>\n",
              "      <td>0.9</td>\n",
              "      <td>168</td>\n",
              "      <td>6</td>\n",
              "      <td>...</td>\n",
              "      <td>483</td>\n",
              "      <td>754</td>\n",
              "      <td>3919</td>\n",
              "      <td>19</td>\n",
              "      <td>4</td>\n",
              "      <td>2</td>\n",
              "      <td>1</td>\n",
              "      <td>1</td>\n",
              "      <td>1</td>\n",
              "      <td>3</td>\n",
              "    </tr>\n",
              "  </tbody>\n",
              "</table>\n",
              "<p>2000 rows × 21 columns</p>\n",
              "</div>\n",
              "      <button class=\"colab-df-convert\" onclick=\"convertToInteractive('df-af84b951-8fc4-401c-8716-88b95736f5b5')\"\n",
              "              title=\"Convert this dataframe to an interactive table.\"\n",
              "              style=\"display:none;\">\n",
              "        \n",
              "  <svg xmlns=\"http://www.w3.org/2000/svg\" height=\"24px\"viewBox=\"0 0 24 24\"\n",
              "       width=\"24px\">\n",
              "    <path d=\"M0 0h24v24H0V0z\" fill=\"none\"/>\n",
              "    <path d=\"M18.56 5.44l.94 2.06.94-2.06 2.06-.94-2.06-.94-.94-2.06-.94 2.06-2.06.94zm-11 1L8.5 8.5l.94-2.06 2.06-.94-2.06-.94L8.5 2.5l-.94 2.06-2.06.94zm10 10l.94 2.06.94-2.06 2.06-.94-2.06-.94-.94-2.06-.94 2.06-2.06.94z\"/><path d=\"M17.41 7.96l-1.37-1.37c-.4-.4-.92-.59-1.43-.59-.52 0-1.04.2-1.43.59L10.3 9.45l-7.72 7.72c-.78.78-.78 2.05 0 2.83L4 21.41c.39.39.9.59 1.41.59.51 0 1.02-.2 1.41-.59l7.78-7.78 2.81-2.81c.8-.78.8-2.07 0-2.86zM5.41 20L4 18.59l7.72-7.72 1.47 1.35L5.41 20z\"/>\n",
              "  </svg>\n",
              "      </button>\n",
              "      \n",
              "  <style>\n",
              "    .colab-df-container {\n",
              "      display:flex;\n",
              "      flex-wrap:wrap;\n",
              "      gap: 12px;\n",
              "    }\n",
              "\n",
              "    .colab-df-convert {\n",
              "      background-color: #E8F0FE;\n",
              "      border: none;\n",
              "      border-radius: 50%;\n",
              "      cursor: pointer;\n",
              "      display: none;\n",
              "      fill: #1967D2;\n",
              "      height: 32px;\n",
              "      padding: 0 0 0 0;\n",
              "      width: 32px;\n",
              "    }\n",
              "\n",
              "    .colab-df-convert:hover {\n",
              "      background-color: #E2EBFA;\n",
              "      box-shadow: 0px 1px 2px rgba(60, 64, 67, 0.3), 0px 1px 3px 1px rgba(60, 64, 67, 0.15);\n",
              "      fill: #174EA6;\n",
              "    }\n",
              "\n",
              "    [theme=dark] .colab-df-convert {\n",
              "      background-color: #3B4455;\n",
              "      fill: #D2E3FC;\n",
              "    }\n",
              "\n",
              "    [theme=dark] .colab-df-convert:hover {\n",
              "      background-color: #434B5C;\n",
              "      box-shadow: 0px 1px 3px 1px rgba(0, 0, 0, 0.15);\n",
              "      filter: drop-shadow(0px 1px 2px rgba(0, 0, 0, 0.3));\n",
              "      fill: #FFFFFF;\n",
              "    }\n",
              "  </style>\n",
              "\n",
              "      <script>\n",
              "        const buttonEl =\n",
              "          document.querySelector('#df-af84b951-8fc4-401c-8716-88b95736f5b5 button.colab-df-convert');\n",
              "        buttonEl.style.display =\n",
              "          google.colab.kernel.accessAllowed ? 'block' : 'none';\n",
              "\n",
              "        async function convertToInteractive(key) {\n",
              "          const element = document.querySelector('#df-af84b951-8fc4-401c-8716-88b95736f5b5');\n",
              "          const dataTable =\n",
              "            await google.colab.kernel.invokeFunction('convertToInteractive',\n",
              "                                                     [key], {});\n",
              "          if (!dataTable) return;\n",
              "\n",
              "          const docLinkHtml = 'Like what you see? Visit the ' +\n",
              "            '<a target=\"_blank\" href=https://colab.research.google.com/notebooks/data_table.ipynb>data table notebook</a>'\n",
              "            + ' to learn more about interactive tables.';\n",
              "          element.innerHTML = '';\n",
              "          dataTable['output_type'] = 'display_data';\n",
              "          await google.colab.output.renderOutput(dataTable, element);\n",
              "          const docLink = document.createElement('div');\n",
              "          docLink.innerHTML = docLinkHtml;\n",
              "          element.appendChild(docLink);\n",
              "        }\n",
              "      </script>\n",
              "    </div>\n",
              "  </div>\n",
              "  "
            ]
          },
          "metadata": {},
          "execution_count": 5
        }
      ]
    },
    {
      "cell_type": "code",
      "source": [
        "df.columns"
      ],
      "metadata": {
        "colab": {
          "base_uri": "https://localhost:8080/"
        },
        "id": "fvxF-amj3knS",
        "outputId": "7aee8c76-b085-4c5b-fb15-c176c9ad0b56"
      },
      "execution_count": 6,
      "outputs": [
        {
          "output_type": "execute_result",
          "data": {
            "text/plain": [
              "Index(['battery_power', 'blue', 'clock_speed', 'dual_sim', 'fc', 'four_g',\n",
              "       'int_memory', 'm_dep', 'mobile_wt', 'n_cores', 'pc', 'px_height',\n",
              "       'px_width', 'ram', 'sc_h', 'sc_w', 'talk_time', 'three_g',\n",
              "       'touch_screen', 'wifi', 'price_range'],\n",
              "      dtype='object')"
            ]
          },
          "metadata": {},
          "execution_count": 6
        }
      ]
    },
    {
      "cell_type": "code",
      "source": [
        "df['price_range']"
      ],
      "metadata": {
        "colab": {
          "base_uri": "https://localhost:8080/"
        },
        "id": "IYmLa8M5-V55",
        "outputId": "bd93500d-b237-45ba-cd2d-0b0ed414dad4"
      },
      "execution_count": 7,
      "outputs": [
        {
          "output_type": "execute_result",
          "data": {
            "text/plain": [
              "0       1\n",
              "1       2\n",
              "2       2\n",
              "3       2\n",
              "4       1\n",
              "       ..\n",
              "1995    0\n",
              "1996    2\n",
              "1997    3\n",
              "1998    0\n",
              "1999    3\n",
              "Name: price_range, Length: 2000, dtype: int64"
            ]
          },
          "metadata": {},
          "execution_count": 7
        }
      ]
    },
    {
      "cell_type": "code",
      "source": [
        "def precios(precio):\n",
        "    if precio == 0:\n",
        "        return random.randint(1, 100)\n",
        "    elif precio == 1:\n",
        "        return random.randint(101, 300)\n",
        "    elif precio == 2:\n",
        "        return random.randint(301, 600)\n",
        "    elif precio == 3:\n",
        "        return random.randint(601, 1000)"
      ],
      "metadata": {
        "id": "Mw6ZKQj7JTcz"
      },
      "execution_count": 8,
      "outputs": []
    },
    {
      "cell_type": "code",
      "source": [
        "df['price_range'] = df['price_range'].apply(precios)"
      ],
      "metadata": {
        "id": "wi51fkIzKfuG"
      },
      "execution_count": 9,
      "outputs": []
    },
    {
      "cell_type": "code",
      "source": [
        "df['price_range']"
      ],
      "metadata": {
        "colab": {
          "base_uri": "https://localhost:8080/"
        },
        "id": "HyrQr1JMLQnn",
        "outputId": "c94c233b-1d84-4630-89f6-15c5a44703bb"
      },
      "execution_count": 10,
      "outputs": [
        {
          "output_type": "execute_result",
          "data": {
            "text/plain": [
              "0       200\n",
              "1       520\n",
              "2       392\n",
              "3       482\n",
              "4       184\n",
              "       ... \n",
              "1995     97\n",
              "1996    551\n",
              "1997    601\n",
              "1998     43\n",
              "1999    998\n",
              "Name: price_range, Length: 2000, dtype: int64"
            ]
          },
          "metadata": {},
          "execution_count": 10
        }
      ]
    },
    {
      "cell_type": "code",
      "source": [
        "df.isna().any()"
      ],
      "metadata": {
        "colab": {
          "base_uri": "https://localhost:8080/"
        },
        "id": "2pXQfT524EQn",
        "outputId": "3e95769d-2d83-4590-d275-fc6a3d92f864"
      },
      "execution_count": 11,
      "outputs": [
        {
          "output_type": "execute_result",
          "data": {
            "text/plain": [
              "battery_power    False\n",
              "blue             False\n",
              "clock_speed      False\n",
              "dual_sim         False\n",
              "fc               False\n",
              "four_g           False\n",
              "int_memory       False\n",
              "m_dep            False\n",
              "mobile_wt        False\n",
              "n_cores          False\n",
              "pc               False\n",
              "px_height        False\n",
              "px_width         False\n",
              "ram              False\n",
              "sc_h             False\n",
              "sc_w             False\n",
              "talk_time        False\n",
              "three_g          False\n",
              "touch_screen     False\n",
              "wifi             False\n",
              "price_range      False\n",
              "dtype: bool"
            ]
          },
          "metadata": {},
          "execution_count": 11
        }
      ]
    },
    {
      "cell_type": "code",
      "source": [
        "df.isna().sum()"
      ],
      "metadata": {
        "colab": {
          "base_uri": "https://localhost:8080/"
        },
        "id": "ltJNbowYGCK8",
        "outputId": "33cb1a19-ab6a-4396-ff83-8c25597e2f92"
      },
      "execution_count": 12,
      "outputs": [
        {
          "output_type": "execute_result",
          "data": {
            "text/plain": [
              "battery_power    0\n",
              "blue             0\n",
              "clock_speed      0\n",
              "dual_sim         0\n",
              "fc               0\n",
              "four_g           0\n",
              "int_memory       0\n",
              "m_dep            0\n",
              "mobile_wt        0\n",
              "n_cores          0\n",
              "pc               0\n",
              "px_height        0\n",
              "px_width         0\n",
              "ram              0\n",
              "sc_h             0\n",
              "sc_w             0\n",
              "talk_time        0\n",
              "three_g          0\n",
              "touch_screen     0\n",
              "wifi             0\n",
              "price_range      0\n",
              "dtype: int64"
            ]
          },
          "metadata": {},
          "execution_count": 12
        }
      ]
    },
    {
      "cell_type": "markdown",
      "source": [
        "## Análisis descriptivo de la data (EDA)"
      ],
      "metadata": {
        "id": "Hm0UpEvg4po2"
      }
    },
    {
      "cell_type": "code",
      "source": [
        "rep = create_report(df)\n",
        "rep.save(\"Reporte\")"
      ],
      "metadata": {
        "colab": {
          "base_uri": "https://localhost:8080/"
        },
        "id": "KbNH5gu-4j4l",
        "outputId": "7024bc99-5562-49c8-9988-2dffbd25326e"
      },
      "execution_count": 13,
      "outputs": [
        {
          "output_type": "stream",
          "name": "stderr",
          "text": []
        },
        {
          "output_type": "stream",
          "name": "stdout",
          "text": [
            "Report has been saved to Reporte.html!\n"
          ]
        }
      ]
    },
    {
      "cell_type": "code",
      "source": [
        "plt.hist(df['battery_power'])\n",
        "plt.show()"
      ],
      "metadata": {
        "colab": {
          "base_uri": "https://localhost:8080/",
          "height": 265
        },
        "id": "Mhgi_tRkmFAx",
        "outputId": "e2659621-4369-47df-9245-094faaffe8e5"
      },
      "execution_count": 14,
      "outputs": [
        {
          "output_type": "display_data",
          "data": {
            "text/plain": [
              "<Figure size 432x288 with 1 Axes>"
            ],
            "image/png": "[encoded data removed]"
          },
          "metadata": {
            "needs_background": "light"
          }
        }
      ]
    },
    {
      "cell_type": "code",
      "source": [
        "plt.hist(df['blue'])\n",
        "plt.show()"
      ],
      "metadata": {
        "colab": {
          "base_uri": "https://localhost:8080/",
          "height": 265
        },
        "id": "AtrAW_iRmHiQ",
        "outputId": "5c69d3f2-0d0b-40ef-b360-fd30cc898514"
      },
      "execution_count": 15,
      "outputs": [
        {
          "output_type": "display_data",
          "data": {
            "text/plain": [
              "<Figure size 432x288 with 1 Axes>"
            ],
            "image/png": "[encoded data removed]"
          },
          "metadata": {
            "needs_background": "light"
          }
        }
      ]
    },
    {
      "cell_type": "code",
      "source": [
        "plt.hist(df['clock_speed'])\n",
        "plt.show()"
      ],
      "metadata": {
        "colab": {
          "base_uri": "https://localhost:8080/",
          "height": 265
        },
        "id": "pgZav7dXmJDF",
        "outputId": "8bbb918a-a7e5-4588-a3c6-bbb08dc20dff"
      },
      "execution_count": 16,
      "outputs": [
        {
          "output_type": "display_data",
          "data": {
            "text/plain": [
              "<Figure size 432x288 with 1 Axes>"
            ],
            "image/png": "[encoded data removed]"
          },
          "metadata": {
            "needs_background": "light"
          }
        }
      ]
    },
    {
      "cell_type": "code",
      "source": [
        "plt.hist(df['dual_sim'])\n",
        "plt.show()"
      ],
      "metadata": {
        "colab": {
          "base_uri": "https://localhost:8080/",
          "height": 265
        },
        "id": "RNzrKX7kmKoI",
        "outputId": "35e097ef-1ec7-4430-9fce-b80089bb781a"
      },
      "execution_count": 17,
      "outputs": [
        {
          "output_type": "display_data",
          "data": {
            "text/plain": [
              "<Figure size 432x288 with 1 Axes>"
            ],
            "image/png": "[encoded data removed]"
          },
          "metadata": {
            "needs_background": "light"
          }
        }
      ]
    },
    {
      "cell_type": "code",
      "source": [
        "plt.hist(df['fc'])\n",
        "plt.show()"
      ],
      "metadata": {
        "colab": {
          "base_uri": "https://localhost:8080/",
          "height": 265
        },
        "id": "pt4WmeYCmMCC",
        "outputId": "85206d64-7ca1-4cbc-9035-9a66b243be16"
      },
      "execution_count": 18,
      "outputs": [
        {
          "output_type": "display_data",
          "data": {
            "text/plain": [
              "<Figure size 432x288 with 1 Axes>"
            ],
            "image/png": "[encoded data removed]"
          },
          "metadata": {
            "needs_background": "light"
          }
        }
      ]
    },
    {
      "cell_type": "code",
      "source": [
        "plt.hist(df['four_g'])\n",
        "plt.show()"
      ],
      "metadata": {
        "colab": {
          "base_uri": "https://localhost:8080/",
          "height": 265
        },
        "id": "2Q0wDppDmOPF",
        "outputId": "56c8495b-c8f6-4bc4-f061-a29ff0b88c50"
      },
      "execution_count": 19,
      "outputs": [
        {
          "output_type": "display_data",
          "data": {
            "text/plain": [
              "<Figure size 432x288 with 1 Axes>"
            ],
            "image/png": "[encoded data removed]"
          },
          "metadata": {
            "needs_background": "light"
          }
        }
      ]
    },
    {
      "cell_type": "code",
      "source": [
        "plt.hist(df['int_memory'])\n",
        "plt.show()"
      ],
      "metadata": {
        "colab": {
          "base_uri": "https://localhost:8080/",
          "height": 265
        },
        "id": "wUPDMoQTmPsd",
        "outputId": "4ca83ba2-2c2f-407f-c733-aae58664c976"
      },
      "execution_count": 20,
      "outputs": [
        {
          "output_type": "display_data",
          "data": {
            "text/plain": [
              "<Figure size 432x288 with 1 Axes>"
            ],
            "image/png": "[encoded data removed]"
          },
          "metadata": {
            "needs_background": "light"
          }
        }
      ]
    },
    {
      "cell_type": "code",
      "source": [
        "plt.hist(df['m_dep'])\n",
        "plt.show()"
      ],
      "metadata": {
        "colab": {
          "base_uri": "https://localhost:8080/",
          "height": 265
        },
        "id": "BzScVlEgmRGL",
        "outputId": "0d1cba23-4f3a-4f94-9e89-81a7158d9674"
      },
      "execution_count": 21,
      "outputs": [
        {
          "output_type": "display_data",
          "data": {
            "text/plain": [
              "<Figure size 432x288 with 1 Axes>"
            ],
            "image/png": "[encoded data removed]"
          },
          "metadata": {
            "needs_background": "light"
          }
        }
      ]
    },
    {
      "cell_type": "code",
      "source": [
        "plt.hist(df['mobile_wt'])\n",
        "plt.show()"
      ],
      "metadata": {
        "colab": {
          "base_uri": "https://localhost:8080/",
          "height": 265
        },
        "id": "_KhUEZYumS0b",
        "outputId": "8d706833-05ee-413c-96ba-9f403c854b73"
      },
      "execution_count": 22,
      "outputs": [
        {
          "output_type": "display_data",
          "data": {
            "text/plain": [
              "<Figure size 432x288 with 1 Axes>"
            ],
            "image/png": "[encoded data removed]"
          },
          "metadata": {
            "needs_background": "light"
          }
        }
      ]
    },
    {
      "cell_type": "code",
      "source": [
        "plt.hist(df['n_cores'])\n",
        "plt.show()"
      ],
      "metadata": {
        "colab": {
          "base_uri": "https://localhost:8080/",
          "height": 265
        },
        "id": "uJjXt-OxmUTk",
        "outputId": "c3baf150-623f-4e85-90d8-5ce2a568fc48"
      },
      "execution_count": 23,
      "outputs": [
        {
          "output_type": "display_data",
          "data": {
            "text/plain": [
              "<Figure size 432x288 with 1 Axes>"
            ],
            "image/png": "[encoded data removed]"
          },
          "metadata": {
            "needs_background": "light"
          }
        }
      ]
    },
    {
      "cell_type": "code",
      "source": [
        "plt.hist(df['pc'])\n",
        "plt.show()"
      ],
      "metadata": {
        "colab": {
          "base_uri": "https://localhost:8080/",
          "height": 265
        },
        "id": "ftW43Z6SmXoX",
        "outputId": "9b1627f9-831c-45ee-ea38-a53d27736c17"
      },
      "execution_count": 24,
      "outputs": [
        {
          "output_type": "display_data",
          "data": {
            "text/plain": [
              "<Figure size 432x288 with 1 Axes>"
            ],
            "image/png": "[encoded data removed]"
          },
          "metadata": {
            "needs_background": "light"
          }
        }
      ]
    },
    {
      "cell_type": "code",
      "source": [
        "plt.hist(df['px_height'])\n",
        "plt.show()"
      ],
      "metadata": {
        "colab": {
          "base_uri": "https://localhost:8080/",
          "height": 265
        },
        "id": "oNpqDae0mZJR",
        "outputId": "c300243d-6d50-464c-f8f0-506b7f7eafef"
      },
      "execution_count": 25,
      "outputs": [
        {
          "output_type": "display_data",
          "data": {
            "text/plain": [
              "<Figure size 432x288 with 1 Axes>"
            ],
            "image/png": "[encoded data removed]"
          },
          "metadata": {
            "needs_background": "light"
          }
        }
      ]
    },
    {
      "cell_type": "code",
      "source": [
        "plt.hist(df['px_width'])\n",
        "plt.show()"
      ],
      "metadata": {
        "colab": {
          "base_uri": "https://localhost:8080/",
          "height": 265
        },
        "id": "E1b7nKWVmac-",
        "outputId": "bccc354f-686e-41f7-fb7e-9ced2a275400"
      },
      "execution_count": 26,
      "outputs": [
        {
          "output_type": "display_data",
          "data": {
            "text/plain": [
              "<Figure size 432x288 with 1 Axes>"
            ],
            "image/png": "[encoded data removed]"
          },
          "metadata": {
            "needs_background": "light"
          }
        }
      ]
    },
    {
      "cell_type": "code",
      "source": [
        "plt.hist(df['ram'])\n",
        "plt.show()"
      ],
      "metadata": {
        "colab": {
          "base_uri": "https://localhost:8080/",
          "height": 265
        },
        "id": "A0rnGKvJmb2L",
        "outputId": "51d43731-31ce-4140-8053-0477b02ec785"
      },
      "execution_count": 27,
      "outputs": [
        {
          "output_type": "display_data",
          "data": {
            "text/plain": [
              "<Figure size 432x288 with 1 Axes>"
            ],
            "image/png": "[encoded data removed]"
          },
          "metadata": {
            "needs_background": "light"
          }
        }
      ]
    },
    {
      "cell_type": "code",
      "source": [
        "plt.hist(df['sc_h'])\n",
        "plt.show()"
      ],
      "metadata": {
        "colab": {
          "base_uri": "https://localhost:8080/",
          "height": 268
        },
        "id": "IDsoPEammd9C",
        "outputId": "01066cbd-aafb-4c65-bb0c-c800fa3488f6"
      },
      "execution_count": 28,
      "outputs": [
        {
          "output_type": "display_data",
          "data": {
            "text/plain": [
              "<Figure size 432x288 with 1 Axes>"
            ],
            "image/png": "[encoded data removed]"
          },
          "metadata": {
            "needs_background": "light"
          }
        }
      ]
    },
    {
      "cell_type": "code",
      "source": [
        "plt.hist(df['sc_w'])\n",
        "plt.show()"
      ],
      "metadata": {
        "colab": {
          "base_uri": "https://localhost:8080/",
          "height": 265
        },
        "id": "uWI8o8ppmfR1",
        "outputId": "6c17ea37-aed6-4e33-ede9-9ab8e7302a9a"
      },
      "execution_count": 29,
      "outputs": [
        {
          "output_type": "display_data",
          "data": {
            "text/plain": [
              "<Figure size 432x288 with 1 Axes>"
            ],
            "image/png": "[encoded data removed]"
          },
          "metadata": {
            "needs_background": "light"
          }
        }
      ]
    },
    {
      "cell_type": "code",
      "source": [
        "plt.hist(df['talk_time'])\n",
        "plt.show()"
      ],
      "metadata": {
        "colab": {
          "base_uri": "https://localhost:8080/",
          "height": 265
        },
        "id": "dge0aAy5mgnB",
        "outputId": "1aa3980c-c2e8-4f22-bc30-a1acaf71496c"
      },
      "execution_count": 30,
      "outputs": [
        {
          "output_type": "display_data",
          "data": {
            "text/plain": [
              "<Figure size 432x288 with 1 Axes>"
            ],
            "image/png": "[encoded data removed]"
          },
          "metadata": {
            "needs_background": "light"
          }
        }
      ]
    },
    {
      "cell_type": "code",
      "source": [
        "plt.hist(df['three_g'])\n",
        "plt.show()"
      ],
      "metadata": {
        "colab": {
          "base_uri": "https://localhost:8080/",
          "height": 265
        },
        "id": "I0oG06REmiEe",
        "outputId": "b40f68f2-98a3-48b2-dbb6-a709939a64fc"
      },
      "execution_count": 31,
      "outputs": [
        {
          "output_type": "display_data",
          "data": {
            "text/plain": [
              "<Figure size 432x288 with 1 Axes>"
            ],
            "image/png": "[encoded data removed]"
          },
          "metadata": {
            "needs_background": "light"
          }
        }
      ]
    },
    {
      "cell_type": "code",
      "source": [
        "plt.hist(df['touch_screen'])\n",
        "plt.show()"
      ],
      "metadata": {
        "colab": {
          "base_uri": "https://localhost:8080/",
          "height": 265
        },
        "id": "_c0rS-Bkmjos",
        "outputId": "33afd3fe-1d5d-4bf1-cdb1-8ca4c3500d39"
      },
      "execution_count": 32,
      "outputs": [
        {
          "output_type": "display_data",
          "data": {
            "text/plain": [
              "<Figure size 432x288 with 1 Axes>"
            ],
            "image/png": "[encoded data removed]"
          },
          "metadata": {
            "needs_background": "light"
          }
        }
      ]
    },
    {
      "cell_type": "code",
      "source": [
        "plt.hist(df['wifi'])\n",
        "plt.show()"
      ],
      "metadata": {
        "colab": {
          "base_uri": "https://localhost:8080/",
          "height": 265
        },
        "id": "Jik--En6mk8A",
        "outputId": "8ed8afe9-e50b-4789-8993-8665d1a86990"
      },
      "execution_count": 33,
      "outputs": [
        {
          "output_type": "display_data",
          "data": {
            "text/plain": [
              "<Figure size 432x288 with 1 Axes>"
            ],
            "image/png": "[encoded data removed]"
          },
          "metadata": {
            "needs_background": "light"
          }
        }
      ]
    },
    {
      "cell_type": "code",
      "source": [
        "plt.hist(df['price_range'])\n",
        "plt.show()"
      ],
      "metadata": {
        "colab": {
          "base_uri": "https://localhost:8080/",
          "height": 265
        },
        "id": "OYEDJ1jdlPnk",
        "outputId": "396fae50-ffeb-46fd-9bae-9f249083b2c7"
      },
      "execution_count": 34,
      "outputs": [
        {
          "output_type": "display_data",
          "data": {
            "text/plain": [
              "<Figure size 432x288 with 1 Axes>"
            ],
            "image/png": "[encoded data removed]"
          },
          "metadata": {
            "needs_background": "light"
          }
        }
      ]
    },
    {
      "cell_type": "markdown",
      "source": [
        "## Entrenamiento del modelo"
      ],
      "metadata": {
        "id": "L1AxW8h45fxm"
      }
    },
    {
      "cell_type": "code",
      "source": [
        "x = df.iloc[:, :-1]\n",
        "y = df.iloc[:, -1]"
      ],
      "metadata": {
        "id": "QhSTzZsa4VnG"
      },
      "execution_count": 35,
      "outputs": []
    },
    {
      "cell_type": "code",
      "source": [
        "numerical_columns = x.columns[(x.dtypes == \"float64\") | (x.dtypes == \"int64\")]\n",
        "categorical_columns = x.columns[(x.dtypes == \"object\")]"
      ],
      "metadata": {
        "id": "eIYjDC-Y6XtC"
      },
      "execution_count": 36,
      "outputs": []
    },
    {
      "cell_type": "code",
      "source": [
        "col_transf = make_column_transformer(\n",
        "    (OneHotEncoder(handle_unknown='ignore'), categorical_columns),\n",
        "    (StandardScaler(), numerical_columns),\n",
        "    remainder=\"passthrough\")"
      ],
      "metadata": {
        "id": "27ittK3K5c6a"
      },
      "execution_count": 37,
      "outputs": []
    },
    {
      "cell_type": "code",
      "source": [
        "X_train, X_test, y_train, y_test = train_test_split(x, y, random_state=2, test_size=0.2)"
      ],
      "metadata": {
        "id": "sIOI4UB_6qYg"
      },
      "execution_count": 38,
      "outputs": []
    },
    {
      "cell_type": "code",
      "source": [
        "models = []\n",
        "models.append((\"LR\", LinearRegression()))\n",
        "models.append((\"RR\", Ridge()))\n",
        "models.append((\"BR\", BayesianRidge()))\n",
        "models.append((\"LASSO\", Lasso()))\n",
        "models.append((\"KNN\", KNeighborsRegressor()))\n",
        "models.append((\"RF\", RandomForestRegressor()))\n",
        "models.append((\"SVR\", SVR()))\n",
        "models.append((\"NNMLP\", MLPRegressor()))"
      ],
      "metadata": {
        "id": "QlVjguj56xVq"
      },
      "execution_count": 39,
      "outputs": []
    },
    {
      "cell_type": "code",
      "source": [
        "pipelines = {name: make_pipeline(col_transf, model) for name, model in models}"
      ],
      "metadata": {
        "id": "HiJDUmHr8oqC"
      },
      "execution_count": 40,
      "outputs": []
    },
    {
      "cell_type": "code",
      "source": [
        "results = []\n",
        "scoring = 'r2'\n",
        "kfolds = 5\n",
        "\n",
        "for name, pipeline in pipelines.items():\n",
        "\tcv_results = cross_val_score(pipeline, X_train, y_train, cv=kfolds, scoring=scoring)\n",
        "\tresults.append({name: cv_results})"
      ],
      "metadata": {
        "colab": {
          "base_uri": "https://localhost:8080/"
        },
        "id": "p322NeVm8pqn",
        "outputId": "33535087-e17c-45de-dd76-2902bf826666"
      },
      "execution_count": 41,
      "outputs": [
        {
          "output_type": "stream",
          "name": "stderr",
          "text": [
            "Stochastic Optimizer: Maximum iterations (200) reached and the optimization hasn't converged yet.\n",
            "Stochastic Optimizer: Maximum iterations (200) reached and the optimization hasn't converged yet.\n",
            "Stochastic Optimizer: Maximum iterations (200) reached and the optimization hasn't converged yet.\n",
            "Stochastic Optimizer: Maximum iterations (200) reached and the optimization hasn't converged yet.\n",
            "Stochastic Optimizer: Maximum iterations (200) reached and the optimization hasn't converged yet.\n"
          ]
        }
      ]
    },
    {
      "cell_type": "code",
      "source": [
        "results"
      ],
      "metadata": {
        "colab": {
          "base_uri": "https://localhost:8080/"
        },
        "id": "_D_iZxrD8wdo",
        "outputId": "6effe52b-eeb1-4e36-f589-f5a25f7ad28f"
      },
      "execution_count": 42,
      "outputs": [
        {
          "output_type": "execute_result",
          "data": {
            "text/plain": [
              "[{'LR': array([0.81293774, 0.81462397, 0.81412339, 0.81801702, 0.82682383])},\n",
              " {'RR': array([0.81296164, 0.81464875, 0.81416408, 0.81794783, 0.82682736])},\n",
              " {'BR': array([0.81303408, 0.8147228 , 0.81429489, 0.8176988 , 0.82683142])},\n",
              " {'LASSO': array([0.81310064, 0.8153513 , 0.81764911, 0.81926212, 0.82784204])},\n",
              " {'KNN': array([0.49614521, 0.54294129, 0.54601597, 0.5518055 , 0.51683191])},\n",
              " {'RF': array([0.85410933, 0.84227362, 0.84676293, 0.85895864, 0.84665268])},\n",
              " {'SVR': array([ 0.02223125, -0.022529  ,  0.04955749,  0.03128373,  0.04652548])},\n",
              " {'NNMLP': array([0.66257225, 0.68568835, 0.66515614, 0.61789922, 0.68766671])}]"
            ]
          },
          "metadata": {},
          "execution_count": 42
        }
      ]
    },
    {
      "cell_type": "code",
      "source": [
        "best_model = sorted(results, key=lambda x: list(x.values())[0].mean(), reverse=True)[0]\n",
        "best_pipeline = pipelines[list(best_model.keys())[0]]"
      ],
      "metadata": {
        "id": "DUicDv6d81Rl"
      },
      "execution_count": 43,
      "outputs": []
    },
    {
      "cell_type": "code",
      "source": [
        "best_model"
      ],
      "metadata": {
        "colab": {
          "base_uri": "https://localhost:8080/"
        },
        "id": "jA_VKeiS9Kuj",
        "outputId": "70c575b1-af6a-4669-de3c-980cf2f086a5"
      },
      "execution_count": 44,
      "outputs": [
        {
          "output_type": "execute_result",
          "data": {
            "text/plain": [
              "{'RF': array([0.85410933, 0.84227362, 0.84676293, 0.85895864, 0.84665268])}"
            ]
          },
          "metadata": {},
          "execution_count": 44
        }
      ]
    },
    {
      "cell_type": "code",
      "source": [
        "fig = plt.figure()\n",
        "ax = fig.add_subplot(111)\n",
        "plt.boxplot([list(dict_.values())[0] for dict_ in results])\n",
        "ax.set_xticklabels([list(dict_.keys())[0] for dict_ in results])\n",
        "plt.show()"
      ],
      "metadata": {
        "colab": {
          "base_uri": "https://localhost:8080/",
          "height": 265
        },
        "id": "_M-BcoWx83U5",
        "outputId": "53280f41-0e69-4d8c-e7b5-e8b0d39ccf2b"
      },
      "execution_count": 45,
      "outputs": [
        {
          "output_type": "display_data",
          "data": {
            "text/plain": [
              "<Figure size 432x288 with 1 Axes>"
            ],
            "image/png": "[encoded data removed]"
          },
          "metadata": {
            "needs_background": "light"
          }
        }
      ]
    },
    {
      "cell_type": "code",
      "source": [
        "best_pipeline.fit(X_train, y_train)\n",
        "best_pipeline.predict(X_test)"
      ],
      "metadata": {
        "colab": {
          "base_uri": "https://localhost:8080/"
        },
        "id": "xwoL0Shp86xM",
        "outputId": "9fe0982a-1df0-440b-8ae3-ca5cdd02350a"
      },
      "execution_count": 46,
      "outputs": [
        {
          "output_type": "execute_result",
          "data": {
            "text/plain": [
              "array([ 57.22, 502.16, 140.48, 510.35, 814.66, 220.13, 843.33, 799.93,\n",
              "       284.14, 281.16, 227.37,  49.69, 426.13, 793.47, 116.67, 803.84,\n",
              "       445.22, 197.78, 196.73, 811.14,  71.68, 664.67,  50.08, 215.67,\n",
              "       775.61, 391.02, 323.31,  62.3 ,  54.93, 327.67,  50.5 , 710.72,\n",
              "        66.63, 120.05, 235.47,  55.88, 833.1 ,  68.37, 607.64, 411.81,\n",
              "       168.31, 213.89, 750.92, 731.58, 564.52,  54.65, 648.34, 447.63,\n",
              "       197.7 , 608.22, 189.65, 780.66, 814.17, 442.04, 736.94,  54.49,\n",
              "       216.15,  75.98, 190.62, 260.91, 171.39, 480.56, 205.99, 584.42,\n",
              "        66.18, 428.51,  75.16, 189.4 ,  50.64, 715.24, 213.94, 115.74,\n",
              "        81.86, 434.79,  47.65, 460.23, 505.95, 776.3 , 484.49, 515.48,\n",
              "       678.07, 356.42, 475.07,  83.75,  58.08, 838.37, 633.47, 404.3 ,\n",
              "        61.91, 179.97, 189.71, 444.1 ,  66.72,  59.45, 199.52, 533.78,\n",
              "        58.77, 819.  , 499.95,  64.49, 198.96, 818.21, 201.42, 212.81,\n",
              "       639.  , 836.95, 782.93, 714.73, 460.87, 249.02, 777.2 , 212.13,\n",
              "       188.12, 427.13, 815.83,  46.57, 101.33, 349.4 , 214.41, 438.42,\n",
              "        54.57, 754.1 , 793.39, 115.24, 618.84,  55.22, 763.48, 268.85,\n",
              "        60.91,  63.98, 202.84, 781.73, 464.85, 204.61,  61.12, 852.44,\n",
              "       817.12,  67.61, 364.77,  61.88, 275.01, 799.36, 806.12,  37.99,\n",
              "       764.53, 541.15, 208.61, 733.04,  54.99, 248.51, 434.78, 657.58,\n",
              "       189.07, 721.92,  66.24, 783.91,  66.25, 530.66, 181.53, 200.13,\n",
              "       207.94,  70.21, 792.11,  87.92, 144.15, 816.39, 291.75, 853.63,\n",
              "       174.6 ,  63.29, 527.04, 134.53,  54.33, 797.01,  56.72, 237.98,\n",
              "       137.54, 221.42, 743.92, 753.88, 430.6 , 360.84, 197.93, 207.91,\n",
              "       257.8 ,  48.97,  59.57, 200.91, 727.89, 352.83, 197.12,  42.43,\n",
              "       202.19, 213.91, 727.7 , 651.81,  48.24, 225.16, 811.46, 319.6 ,\n",
              "        66.88, 604.88, 737.34,  67.34, 793.41, 576.65, 284.78, 587.84,\n",
              "       458.77, 778.4 , 776.23, 607.18, 177.41,  85.4 , 608.73, 264.5 ,\n",
              "        60.19, 254.37, 806.86,  50.55,  68.13, 805.15,  53.37, 190.15,\n",
              "       266.38,  59.52, 161.59, 800.41, 352.58, 542.27, 824.15, 761.8 ,\n",
              "       796.17,  56.33, 758.24,  45.44, 206.41, 444.15, 105.73, 771.3 ,\n",
              "       476.08, 532.12, 377.82,  56.38, 564.52, 774.07,  48.83, 798.1 ,\n",
              "       165.24, 227.6 , 196.86,  78.18, 290.6 , 806.72, 462.17, 351.57,\n",
              "        88.13, 825.16, 826.37,  67.37,  73.75,  41.81, 862.15, 830.35,\n",
              "        60.31, 854.55, 186.99,  61.47, 217.07,  80.77, 423.51,  64.19,\n",
              "       507.38,  58.2 ,  58.37,  61.39, 405.73,  54.52, 528.89,  57.  ,\n",
              "       808.12, 881.74,  50.92, 617.61, 471.23, 243.2 , 159.22, 256.69,\n",
              "       295.84, 802.84,  59.54,  69.52, 736.88, 147.64, 804.26, 235.98,\n",
              "       539.28,  65.45, 355.64,  64.84, 770.8 , 164.15, 518.97, 802.84,\n",
              "       617.91, 725.16, 403.07, 796.85,  68.01,  71.56, 447.59, 412.78,\n",
              "       152.05, 112.84, 164.28, 721.17, 402.17, 420.49,  53.74, 102.19,\n",
              "       479.46,  94.14, 642.45, 527.78, 435.1 , 570.84, 696.61, 742.27,\n",
              "       193.28, 845.35, 245.16, 773.33, 470.95, 294.84, 811.49, 791.44,\n",
              "        54.8 , 224.45, 441.26, 436.45, 524.42, 443.64, 866.16,  46.17,\n",
              "        57.79, 207.65,  47.43, 238.03, 454.63, 774.05,  48.73, 217.34,\n",
              "       705.4 , 212.19, 597.31, 642.28, 464.24, 153.49,  70.62, 256.39,\n",
              "       460.39, 826.34, 724.33,  70.59, 215.84, 432.21,  56.32, 210.59,\n",
              "       746.96, 519.48, 237.07, 762.8 , 211.11,  62.41, 234.41, 770.95,\n",
              "        69.96, 217.84, 300.75, 216.74, 468.65, 151.44,  80.26, 144.74,\n",
              "       449.81, 405.45, 164.89,  54.68, 763.8 , 465.7 , 138.38, 187.96,\n",
              "        55.36,  52.78, 451.42,  59.06, 840.34, 187.75, 786.51, 752.71])"
            ]
          },
          "metadata": {},
          "execution_count": 46
        }
      ]
    },
    {
      "cell_type": "code",
      "source": [
        "y_true = y_test\n",
        "y_pred = best_pipeline.predict(X_test)"
      ],
      "metadata": {
        "id": "dXIjYGdsi6DK"
      },
      "execution_count": 47,
      "outputs": []
    },
    {
      "cell_type": "code",
      "source": [
        "print(r2_score(y_true, y_pred))"
      ],
      "metadata": {
        "colab": {
          "base_uri": "https://localhost:8080/"
        },
        "id": "0AUIrsTt5rhF",
        "outputId": "bbd1c2c7-cd0b-446f-dcb0-49ad0235fd54"
      },
      "execution_count": 48,
      "outputs": [
        {
          "output_type": "stream",
          "name": "stdout",
          "text": [
            "0.8616912762594715\n"
          ]
        }
      ]
    },
    {
      "cell_type": "markdown",
      "source": [
        "## Despliegue del modelo y api externa"
      ],
      "metadata": {
        "id": "WqES8etA5sTF"
      }
    },
    {
      "cell_type": "code",
      "source": [
        "filename = 'mobile_prices.pkl'\n",
        "pickle.dump(best_pipeline, open(filename, 'wb'))"
      ],
      "metadata": {
        "id": "hkaY3_5IVx8N"
      },
      "execution_count": 49,
      "outputs": []
    },
    {
      "cell_type": "code",
      "source": [
        "import pandas as pd\n",
        "import sklearn\n",
        "import pickle\n",
        "\n",
        "if __name__ == '__main__':\n",
        "  mp_mod = pickle.load(open('mobile_prices.pkl', mode = 'rb'))\n",
        "  \n",
        "  print(\"Bienvenid@! Digita los datos del celular.\")\n",
        "\n",
        "  battery_power = input(\"\\nBateria total que el celular puede almacenar en miliamperios(mAH): \")\n",
        "  talk_time = input(\"Tiempo que dura la bateria sin cargar: \")\n",
        "  int_memory = input(\"Gigabytes de la memoria interna: \")\n",
        "  clock_speed = input(\"Velocidad del microprocesador: \")\n",
        "  n_cores = input(\"Numero de nucleos del procesador: \")\n",
        "  ram = input(\"Ram del telefono en megabytes: \")\n",
        "  dual_sim = input(\"Tiene dual sim (1: si, 0: no): \")\n",
        "  blue = input(\"Tiene bluetooth (1: si, 0: no): \")\n",
        "  wifi = input(\"Puede usar wifi (1: si, 0: no): \")\n",
        "  three_g = input(\"Puede utilizar 3G (1: si, 0: no): \")\n",
        "  four_g = input(\"Puede utilizar 4G (1: si, 0: no): \")\n",
        "  touch_screen = input(\"El celular es touch (1: si, 0: no):\")\n",
        "  pc = input(\"Megapixeles de la camara principal: \")\n",
        "  fc = input(\"Megapixeles de la camara frontal: \")\n",
        "  px_height = input(\"Resolucion de la altura en pixeles: \")\n",
        "  px_width = input(\"Resolucion del ancho en pixeles: \")\n",
        "  sc_h = input(\"Altura del telefono en cm: \")\n",
        "  sc_w = input(\"Anchura del telefono en cm: \")\n",
        "  m_dep = input(\"Profundidad del celular en cm: \")\n",
        "  mobile_wt = input(\"Peso del celular: \")\n",
        "\n",
        "  celular = pd.DataFrame([battery_power, blue, clock_speed, dual_sim, fc, four_g, int_memory, m_dep, mobile_wt, n_cores, pc, px_height, px_width, ram, sc_h, sc_w, talk_time, three_g, touch_screen, wifi])\n",
        "  celular = celular.transpose().rename(columns={0: 'battery_power', 1: 'blue', 2: 'clock_speed', 3: 'dual_sim', 4: 'fc', 5: 'four_g', 6: 'int_memory', 7: 'm_dep', 8: 'mobile_wt', 9: 'n_cores', 10: 'pc', 11: 'px_height', 12: 'px_width', 13: 'ram', 14: 'sc_h', 15: 'sc_w', 16: 'talk_time', 17: 'three_g', 18: 'touch_screen', 19: 'wifi'})\n",
        "\n",
        "  prediccion = mp_mod.predict(celular)\n",
        "\n",
        "  print(f\"\\nEl precio del elefono es: {prediccion[0]}\")"
      ],
      "metadata": {
        "colab": {
          "base_uri": "https://localhost:8080/"
        },
        "id": "DrS51FxgbnY7",
        "outputId": "b06d1a81-7d31-43cf-a973-479d05c6057f"
      },
      "execution_count": 86,
      "outputs": [
        {
          "output_type": "stream",
          "name": "stdout",
          "text": [
            "Bienvenid@! Digita los datos del celular.\n",
            "\n",
            "Bateria total que el celular puede almacenar en miliamperios(mAH): 2000\n",
            "Tiempo que dura la bateria sin cargar: 20\n",
            "Gigabytes de la memoria interna: 6\n",
            "Velocidad del microprocesador: 0.9\n",
            "Numero de nucleos del procesador: 6\n",
            "Ram del telefono en megabytes: 6000\n",
            "Tiene dual sim (1: si, 0: no): 1\n",
            "Tiene bluetooth (1: si, 0: no): 1\n",
            "Puede usar wifi (1: si, 0: no): 1\n",
            "Puede utilizar 3G (1: si, 0: no): 1\n",
            "Puede utilizar 4G (1: si, 0: no): 0\n",
            "El celular es touch (1: si, 0: no):1\n",
            "Megapixeles de la camara principal: 20\n",
            "Megapixeles de la camara frontal: 20\n",
            "Resolucion de la altura en pixeles: 1900\n",
            "Resolucion del ancho en pixeles: 800\n",
            "Altura del telefono en cm: 50\n",
            "Anchura del telefono en cm: 5\n",
            "Profundidad del celular en cm: 0.5\n",
            "Peso del celular: 30\n",
            "\n",
            "El precio del elefono es: 787.81\n"
          ]
        }
      ]
    },
    {
      "cell_type": "code",
      "source": [
        "explainer = shap.Explainer(mp_mod['randomforestregressor'])\n",
        "valores_shap = explainer(celular)"
      ],
      "metadata": {
        "id": "0TsucZ0e9jDu"
      },
      "execution_count": 87,
      "outputs": []
    },
    {
      "cell_type": "code",
      "source": [
        "celulares = pd.DataFrame(best_pipeline[0].transform(X_test.sample(100)), columns=best_pipeline[0].get_feature_names_out())"
      ],
      "metadata": {
        "id": "qmjFPnsYU-qd"
      },
      "execution_count": 104,
      "outputs": []
    },
    {
      "cell_type": "code",
      "source": [
        "explainer2 = shap.Explainer(best_pipeline[1].predict, celulares)"
      ],
      "metadata": {
        "id": "sJYHt9-PV3vz"
      },
      "execution_count": 105,
      "outputs": []
    },
    {
      "cell_type": "code",
      "source": [
        "valores_shap2 = explainer2(celulares)"
      ],
      "metadata": {
        "colab": {
          "base_uri": "https://localhost:8080/"
        },
        "id": "6whSLXpMUqwI",
        "outputId": "c31ea5aa-6350-462b-f074-b64a5fdf8209"
      },
      "execution_count": 106,
      "outputs": [
        {
          "output_type": "stream",
          "name": "stderr",
          "text": [
            "X has feature names, but RandomForestRegressor was fitted without feature names\n",
            "X has feature names, but RandomForestRegressor was fitted without feature names\n",
            "X has feature names, but RandomForestRegressor was fitted without feature names\n",
            "X has feature names, but RandomForestRegressor was fitted without feature names\n",
            "X has feature names, but RandomForestRegressor was fitted without feature names\n",
            "X has feature names, but RandomForestRegressor was fitted without feature names\n",
            "X has feature names, but RandomForestRegressor was fitted without feature names\n",
            "X has feature names, but RandomForestRegressor was fitted without feature names\n",
            "X has feature names, but RandomForestRegressor was fitted without feature names\n",
            "X has feature names, but RandomForestRegressor was fitted without feature names\n",
            "X has feature names, but RandomForestRegressor was fitted without feature names\n",
            "X has feature names, but RandomForestRegressor was fitted without feature names\n",
            "X has feature names, but RandomForestRegressor was fitted without feature names\n",
            "X has feature names, but RandomForestRegressor was fitted without feature names\n",
            "X has feature names, but RandomForestRegressor was fitted without feature names\n",
            "X has feature names, but RandomForestRegressor was fitted without feature names\n",
            "X has feature names, but RandomForestRegressor was fitted without feature names\n",
            "X has feature names, but RandomForestRegressor was fitted without feature names\n",
            "X has feature names, but RandomForestRegressor was fitted without feature names\n",
            "X has feature names, but RandomForestRegressor was fitted without feature names\n",
            "X has feature names, but RandomForestRegressor was fitted without feature names\n",
            "X has feature names, but RandomForestRegressor was fitted without feature names\n",
            "X has feature names, but RandomForestRegressor was fitted without feature names\n",
            "X has feature names, but RandomForestRegressor was fitted without feature names\n",
            "X has feature names, but RandomForestRegressor was fitted without feature names\n",
            "X has feature names, but RandomForestRegressor was fitted without feature names\n",
            "X has feature names, but RandomForestRegressor was fitted without feature names\n",
            "X has feature names, but RandomForestRegressor was fitted without feature names\n",
            "X has feature names, but RandomForestRegressor was fitted without feature names\n",
            "X has feature names, but RandomForestRegressor was fitted without feature names\n",
            "X has feature names, but RandomForestRegressor was fitted without feature names\n",
            "X has feature names, but RandomForestRegressor was fitted without feature names\n",
            "X has feature names, but RandomForestRegressor was fitted without feature names\n",
            "X has feature names, but RandomForestRegressor was fitted without feature names\n",
            "X has feature names, but RandomForestRegressor was fitted without feature names\n",
            "X has feature names, but RandomForestRegressor was fitted without feature names\n",
            "X has feature names, but RandomForestRegressor was fitted without feature names\n",
            "X has feature names, but RandomForestRegressor was fitted without feature names\n",
            "X has feature names, but RandomForestRegressor was fitted without feature names\n",
            "X has feature names, but RandomForestRegressor was fitted without feature names\n",
            "X has feature names, but RandomForestRegressor was fitted without feature names\n",
            "X has feature names, but RandomForestRegressor was fitted without feature names\n",
            "X has feature names, but RandomForestRegressor was fitted without feature names\n",
            "X has feature names, but RandomForestRegressor was fitted without feature names\n",
            "X has feature names, but RandomForestRegressor was fitted without feature names\n",
            "X has feature names, but RandomForestRegressor was fitted without feature names\n",
            "X has feature names, but RandomForestRegressor was fitted without feature names\n",
            "X has feature names, but RandomForestRegressor was fitted without feature names\n",
            "X has feature names, but RandomForestRegressor was fitted without feature names\n",
            "X has feature names, but RandomForestRegressor was fitted without feature names\n",
            "X has feature names, but RandomForestRegressor was fitted without feature names\n",
            "X has feature names, but RandomForestRegressor was fitted without feature names\n",
            "X has feature names, but RandomForestRegressor was fitted without feature names\n",
            "X has feature names, but RandomForestRegressor was fitted without feature names\n",
            "X has feature names, but RandomForestRegressor was fitted without feature names\n",
            "X has feature names, but RandomForestRegressor was fitted without feature names\n",
            "X has feature names, but RandomForestRegressor was fitted without feature names\n",
            "X has feature names, but RandomForestRegressor was fitted without feature names\n",
            "X has feature names, but RandomForestRegressor was fitted without feature names\n",
            "X has feature names, but RandomForestRegressor was fitted without feature names\n",
            "X has feature names, but RandomForestRegressor was fitted without feature names\n",
            "X has feature names, but RandomForestRegressor was fitted without feature names\n",
            "X has feature names, but RandomForestRegressor was fitted without feature names\n",
            "X has feature names, but RandomForestRegressor was fitted without feature names\n",
            "X has feature names, but RandomForestRegressor was fitted without feature names\n",
            "X has feature names, but RandomForestRegressor was fitted without feature names\n",
            "X has feature names, but RandomForestRegressor was fitted without feature names\n",
            "X has feature names, but RandomForestRegressor was fitted without feature names\n",
            "X has feature names, but RandomForestRegressor was fitted without feature names\n",
            "X has feature names, but RandomForestRegressor was fitted without feature names\n",
            "X has feature names, but RandomForestRegressor was fitted without feature names\n",
            "X has feature names, but RandomForestRegressor was fitted without feature names\n",
            "X has feature names, but RandomForestRegressor was fitted without feature names\n",
            "X has feature names, but RandomForestRegressor was fitted without feature names\n",
            "X has feature names, but RandomForestRegressor was fitted without feature names\n",
            "X has feature names, but RandomForestRegressor was fitted without feature names\n",
            "X has feature names, but RandomForestRegressor was fitted without feature names\n",
            "X has feature names, but RandomForestRegressor was fitted without feature names\n",
            "X has feature names, but RandomForestRegressor was fitted without feature names\n",
            "X has feature names, but RandomForestRegressor was fitted without feature names\n",
            "X has feature names, but RandomForestRegressor was fitted without feature names\n",
            "X has feature names, but RandomForestRegressor was fitted without feature names\n",
            "X has feature names, but RandomForestRegressor was fitted without feature names\n",
            "X has feature names, but RandomForestRegressor was fitted without feature names\n",
            "X has feature names, but RandomForestRegressor was fitted without feature names\n",
            "X has feature names, but RandomForestRegressor was fitted without feature names\n",
            "X has feature names, but RandomForestRegressor was fitted without feature names\n",
            "X has feature names, but RandomForestRegressor was fitted without feature names\n",
            "X has feature names, but RandomForestRegressor was fitted without feature names\n",
            "X has feature names, but RandomForestRegressor was fitted without feature names\n",
            "X has feature names, but RandomForestRegressor was fitted without feature names\n",
            "X has feature names, but RandomForestRegressor was fitted without feature names\n",
            "X has feature names, but RandomForestRegressor was fitted without feature names\n",
            "X has feature names, but RandomForestRegressor was fitted without feature names\n",
            "X has feature names, but RandomForestRegressor was fitted without feature names\n",
            "X has feature names, but RandomForestRegressor was fitted without feature names\n",
            "X has feature names, but RandomForestRegressor was fitted without feature names\n",
            "X has feature names, but RandomForestRegressor was fitted without feature names\n",
            "X has feature names, but RandomForestRegressor was fitted without feature names\n",
            "X has feature names, but RandomForestRegressor was fitted without feature names\n",
            "X has feature names, but RandomForestRegressor was fitted without feature names\n",
            "X has feature names, but RandomForestRegressor was fitted without feature names\n",
            "X has feature names, but RandomForestRegressor was fitted without feature names\n",
            "X has feature names, but RandomForestRegressor was fitted without feature names\n",
            "X has feature names, but RandomForestRegressor was fitted without feature names\n",
            "X has feature names, but RandomForestRegressor was fitted without feature names\n",
            "X has feature names, but RandomForestRegressor was fitted without feature names\n",
            "X has feature names, but RandomForestRegressor was fitted without feature names\n",
            "X has feature names, but RandomForestRegressor was fitted without feature names\n",
            "X has feature names, but RandomForestRegressor was fitted without feature names\n",
            "X has feature names, but RandomForestRegressor was fitted without feature names\n",
            "X has feature names, but RandomForestRegressor was fitted without feature names\n",
            "X has feature names, but RandomForestRegressor was fitted without feature names\n",
            "X has feature names, but RandomForestRegressor was fitted without feature names\n",
            "X has feature names, but RandomForestRegressor was fitted without feature names\n",
            "X has feature names, but RandomForestRegressor was fitted without feature names\n",
            "X has feature names, but RandomForestRegressor was fitted without feature names\n",
            "X has feature names, but RandomForestRegressor was fitted without feature names\n",
            "X has feature names, but RandomForestRegressor was fitted without feature names\n",
            "X has feature names, but RandomForestRegressor was fitted without feature names\n",
            "X has feature names, but RandomForestRegressor was fitted without feature names\n",
            "X has feature names, but RandomForestRegressor was fitted without feature names\n",
            "X has feature names, but RandomForestRegressor was fitted without feature names\n",
            "X has feature names, but RandomForestRegressor was fitted without feature names\n",
            "X has feature names, but RandomForestRegressor was fitted without feature names\n",
            "X has feature names, but RandomForestRegressor was fitted without feature names\n",
            "X has feature names, but RandomForestRegressor was fitted without feature names\n",
            "X has feature names, but RandomForestRegressor was fitted without feature names\n",
            "X has feature names, but RandomForestRegressor was fitted without feature names\n",
            "X has feature names, but RandomForestRegressor was fitted without feature names\n",
            "X has feature names, but RandomForestRegressor was fitted without feature names\n",
            "X has feature names, but RandomForestRegressor was fitted without feature names\n",
            "X has feature names, but RandomForestRegressor was fitted without feature names\n",
            "X has feature names, but RandomForestRegressor was fitted without feature names\n",
            "X has feature names, but RandomForestRegressor was fitted without feature names\n",
            "X has feature names, but RandomForestRegressor was fitted without feature names\n",
            "X has feature names, but RandomForestRegressor was fitted without feature names\n",
            "X has feature names, but RandomForestRegressor was fitted without feature names\n",
            "X has feature names, but RandomForestRegressor was fitted without feature names\n",
            "X has feature names, but RandomForestRegressor was fitted without feature names\n",
            "X has feature names, but RandomForestRegressor was fitted without feature names\n",
            "X has feature names, but RandomForestRegressor was fitted without feature names\n",
            "X has feature names, but RandomForestRegressor was fitted without feature names\n",
            "X has feature names, but RandomForestRegressor was fitted without feature names\n",
            "X has feature names, but RandomForestRegressor was fitted without feature names\n",
            "X has feature names, but RandomForestRegressor was fitted without feature names\n",
            "X has feature names, but RandomForestRegressor was fitted without feature names\n",
            "X has feature names, but RandomForestRegressor was fitted without feature names\n",
            "X has feature names, but RandomForestRegressor was fitted without feature names\n",
            "X has feature names, but RandomForestRegressor was fitted without feature names\n",
            "X has feature names, but RandomForestRegressor was fitted without feature names\n",
            "X has feature names, but RandomForestRegressor was fitted without feature names\n",
            "X has feature names, but RandomForestRegressor was fitted without feature names\n",
            "X has feature names, but RandomForestRegressor was fitted without feature names\n",
            "X has feature names, but RandomForestRegressor was fitted without feature names\n",
            "X has feature names, but RandomForestRegressor was fitted without feature names\n",
            "X has feature names, but RandomForestRegressor was fitted without feature names\n",
            "X has feature names, but RandomForestRegressor was fitted without feature names\n",
            "X has feature names, but RandomForestRegressor was fitted without feature names\n",
            "X has feature names, but RandomForestRegressor was fitted without feature names\n",
            "X has feature names, but RandomForestRegressor was fitted without feature names\n",
            "X has feature names, but RandomForestRegressor was fitted without feature names\n",
            "X has feature names, but RandomForestRegressor was fitted without feature names\n",
            "X has feature names, but RandomForestRegressor was fitted without feature names\n",
            "X has feature names, but RandomForestRegressor was fitted without feature names\n",
            "X has feature names, but RandomForestRegressor was fitted without feature names\n",
            "X has feature names, but RandomForestRegressor was fitted without feature names\n",
            "X has feature names, but RandomForestRegressor was fitted without feature names\n",
            "X has feature names, but RandomForestRegressor was fitted without feature names\n",
            "X has feature names, but RandomForestRegressor was fitted without feature names\n",
            "X has feature names, but RandomForestRegressor was fitted without feature names\n",
            "X has feature names, but RandomForestRegressor was fitted without feature names\n",
            "X has feature names, but RandomForestRegressor was fitted without feature names\n",
            "X has feature names, but RandomForestRegressor was fitted without feature names\n",
            "X has feature names, but RandomForestRegressor was fitted without feature names\n",
            "X has feature names, but RandomForestRegressor was fitted without feature names\n",
            "X has feature names, but RandomForestRegressor was fitted without feature names\n",
            "X has feature names, but RandomForestRegressor was fitted without feature names\n",
            "X has feature names, but RandomForestRegressor was fitted without feature names\n",
            "X has feature names, but RandomForestRegressor was fitted without feature names\n",
            "X has feature names, but RandomForestRegressor was fitted without feature names\n",
            "X has feature names, but RandomForestRegressor was fitted without feature names\n",
            "X has feature names, but RandomForestRegressor was fitted without feature names\n",
            "X has feature names, but RandomForestRegressor was fitted without feature names\n",
            "X has feature names, but RandomForestRegressor was fitted without feature names\n",
            "X has feature names, but RandomForestRegressor was fitted without feature names\n",
            "X has feature names, but RandomForestRegressor was fitted without feature names\n",
            "X has feature names, but RandomForestRegressor was fitted without feature names\n",
            "X has feature names, but RandomForestRegressor was fitted without feature names\n",
            "X has feature names, but RandomForestRegressor was fitted without feature names\n",
            "X has feature names, but RandomForestRegressor was fitted without feature names\n",
            "X has feature names, but RandomForestRegressor was fitted without feature names\n",
            "X has feature names, but RandomForestRegressor was fitted without feature names\n",
            "X has feature names, but RandomForestRegressor was fitted without feature names\n",
            "X has feature names, but RandomForestRegressor was fitted without feature names\n",
            "X has feature names, but RandomForestRegressor was fitted without feature names\n",
            "X has feature names, but RandomForestRegressor was fitted without feature names\n",
            "X has feature names, but RandomForestRegressor was fitted without feature names\n",
            "X has feature names, but RandomForestRegressor was fitted without feature names\n",
            "X has feature names, but RandomForestRegressor was fitted without feature names\n",
            "X has feature names, but RandomForestRegressor was fitted without feature names\n",
            "X has feature names, but RandomForestRegressor was fitted without feature names\n",
            "X has feature names, but RandomForestRegressor was fitted without feature names\n",
            "X has feature names, but RandomForestRegressor was fitted without feature names\n",
            "X has feature names, but RandomForestRegressor was fitted without feature names\n",
            "X has feature names, but RandomForestRegressor was fitted without feature names\n",
            "X has feature names, but RandomForestRegressor was fitted without feature names\n",
            "X has feature names, but RandomForestRegressor was fitted without feature names\n",
            "X has feature names, but RandomForestRegressor was fitted without feature names\n",
            "X has feature names, but RandomForestRegressor was fitted without feature names\n",
            "X has feature names, but RandomForestRegressor was fitted without feature names\n",
            "X has feature names, but RandomForestRegressor was fitted without feature names\n",
            "X has feature names, but RandomForestRegressor was fitted without feature names\n",
            "X has feature names, but RandomForestRegressor was fitted without feature names\n",
            "X has feature names, but RandomForestRegressor was fitted without feature names\n",
            "X has feature names, but RandomForestRegressor was fitted without feature names\n",
            "X has feature names, but RandomForestRegressor was fitted without feature names\n",
            "X has feature names, but RandomForestRegressor was fitted without feature names\n",
            "X has feature names, but RandomForestRegressor was fitted without feature names\n",
            "X has feature names, but RandomForestRegressor was fitted without feature names\n",
            "X has feature names, but RandomForestRegressor was fitted without feature names\n",
            "X has feature names, but RandomForestRegressor was fitted without feature names\n",
            "X has feature names, but RandomForestRegressor was fitted without feature names\n",
            "X has feature names, but RandomForestRegressor was fitted without feature names\n",
            "X has feature names, but RandomForestRegressor was fitted without feature names\n",
            "X has feature names, but RandomForestRegressor was fitted without feature names\n",
            "X has feature names, but RandomForestRegressor was fitted without feature names\n",
            "X has feature names, but RandomForestRegressor was fitted without feature names\n",
            "X has feature names, but RandomForestRegressor was fitted without feature names\n",
            "X has feature names, but RandomForestRegressor was fitted without feature names\n",
            "X has feature names, but RandomForestRegressor was fitted without feature names\n",
            "X has feature names, but RandomForestRegressor was fitted without feature names\n",
            "X has feature names, but RandomForestRegressor was fitted without feature names\n",
            "X has feature names, but RandomForestRegressor was fitted without feature names\n",
            "X has feature names, but RandomForestRegressor was fitted without feature names\n",
            "X has feature names, but RandomForestRegressor was fitted without feature names\n",
            "X has feature names, but RandomForestRegressor was fitted without feature names\n",
            "X has feature names, but RandomForestRegressor was fitted without feature names\n",
            "X has feature names, but RandomForestRegressor was fitted without feature names\n",
            "X has feature names, but RandomForestRegressor was fitted without feature names\n",
            "X has feature names, but RandomForestRegressor was fitted without feature names\n",
            "X has feature names, but RandomForestRegressor was fitted without feature names\n",
            "X has feature names, but RandomForestRegressor was fitted without feature names\n",
            "X has feature names, but RandomForestRegressor was fitted without feature names\n",
            "X has feature names, but RandomForestRegressor was fitted without feature names\n",
            "X has feature names, but RandomForestRegressor was fitted without feature names\n",
            "Permutation explainer:  19%|█▉        | 19/100 [00:00<?, ?it/s]X has feature names, but RandomForestRegressor was fitted without feature names\n",
            "X has feature names, but RandomForestRegressor was fitted without feature names\n",
            "X has feature names, but RandomForestRegressor was fitted without feature names\n",
            "X has feature names, but RandomForestRegressor was fitted without feature names\n",
            "X has feature names, but RandomForestRegressor was fitted without feature names\n",
            "X has feature names, but RandomForestRegressor was fitted without feature names\n",
            "X has feature names, but RandomForestRegressor was fitted without feature names\n",
            "X has feature names, but RandomForestRegressor was fitted without feature names\n",
            "X has feature names, but RandomForestRegressor was fitted without feature names\n",
            "X has feature names, but RandomForestRegressor was fitted without feature names\n",
            "X has feature names, but RandomForestRegressor was fitted without feature names\n",
            "X has feature names, but RandomForestRegressor was fitted without feature names\n",
            "X has feature names, but RandomForestRegressor was fitted without feature names\n",
            "Permutation explainer:  21%|██        | 21/100 [00:10<00:20,  3.82it/s]X has feature names, but RandomForestRegressor was fitted without feature names\n",
            "X has feature names, but RandomForestRegressor was fitted without feature names\n",
            "X has feature names, but RandomForestRegressor was fitted without feature names\n",
            "X has feature names, but RandomForestRegressor was fitted without feature names\n",
            "X has feature names, but RandomForestRegressor was fitted without feature names\n",
            "X has feature names, but RandomForestRegressor was fitted without feature names\n",
            "X has feature names, but RandomForestRegressor was fitted without feature names\n",
            "X has feature names, but RandomForestRegressor was fitted without feature names\n",
            "X has feature names, but RandomForestRegressor was fitted without feature names\n",
            "X has feature names, but RandomForestRegressor was fitted without feature names\n",
            "X has feature names, but RandomForestRegressor was fitted without feature names\n",
            "X has feature names, but RandomForestRegressor was fitted without feature names\n",
            "X has feature names, but RandomForestRegressor was fitted without feature names\n",
            "Permutation explainer:  22%|██▏       | 22/100 [00:11<00:28,  2.78it/s]X has feature names, but RandomForestRegressor was fitted without feature names\n",
            "X has feature names, but RandomForestRegressor was fitted without feature names\n",
            "X has feature names, but RandomForestRegressor was fitted without feature names\n",
            "X has feature names, but RandomForestRegressor was fitted without feature names\n",
            "X has feature names, but RandomForestRegressor was fitted without feature names\n",
            "X has feature names, but RandomForestRegressor was fitted without feature names\n",
            "X has feature names, but RandomForestRegressor was fitted without feature names\n",
            "X has feature names, but RandomForestRegressor was fitted without feature names\n",
            "X has feature names, but RandomForestRegressor was fitted without feature names\n",
            "X has feature names, but RandomForestRegressor was fitted without feature names\n",
            "X has feature names, but RandomForestRegressor was fitted without feature names\n",
            "X has feature names, but RandomForestRegressor was fitted without feature names\n",
            "X has feature names, but RandomForestRegressor was fitted without feature names\n",
            "Permutation explainer:  23%|██▎       | 23/100 [00:11<00:32,  2.41it/s]X has feature names, but RandomForestRegressor was fitted without feature names\n",
            "X has feature names, but RandomForestRegressor was fitted without feature names\n",
            "X has feature names, but RandomForestRegressor was fitted without feature names\n",
            "X has feature names, but RandomForestRegressor was fitted without feature names\n",
            "X has feature names, but RandomForestRegressor was fitted without feature names\n",
            "X has feature names, but RandomForestRegressor was fitted without feature names\n",
            "X has feature names, but RandomForestRegressor was fitted without feature names\n",
            "X has feature names, but RandomForestRegressor was fitted without feature names\n",
            "X has feature names, but RandomForestRegressor was fitted without feature names\n",
            "X has feature names, but RandomForestRegressor was fitted without feature names\n",
            "X has feature names, but RandomForestRegressor was fitted without feature names\n",
            "X has feature names, but RandomForestRegressor was fitted without feature names\n",
            "X has feature names, but RandomForestRegressor was fitted without feature names\n",
            "Permutation explainer:  24%|██▍       | 24/100 [00:12<00:34,  2.20it/s]X has feature names, but RandomForestRegressor was fitted without feature names\n",
            "X has feature names, but RandomForestRegressor was fitted without feature names\n",
            "X has feature names, but RandomForestRegressor was fitted without feature names\n",
            "X has feature names, but RandomForestRegressor was fitted without feature names\n",
            "X has feature names, but RandomForestRegressor was fitted without feature names\n",
            "X has feature names, but RandomForestRegressor was fitted without feature names\n",
            "X has feature names, but RandomForestRegressor was fitted without feature names\n",
            "X has feature names, but RandomForestRegressor was fitted without feature names\n",
            "X has feature names, but RandomForestRegressor was fitted without feature names\n",
            "X has feature names, but RandomForestRegressor was fitted without feature names\n",
            "X has feature names, but RandomForestRegressor was fitted without feature names\n",
            "X has feature names, but RandomForestRegressor was fitted without feature names\n",
            "X has feature names, but RandomForestRegressor was fitted without feature names\n",
            "Permutation explainer:  25%|██▌       | 25/100 [00:12<00:35,  2.08it/s]X has feature names, but RandomForestRegressor was fitted without feature names\n",
            "X has feature names, but RandomForestRegressor was fitted without feature names\n",
            "X has feature names, but RandomForestRegressor was fitted without feature names\n",
            "X has feature names, but RandomForestRegressor was fitted without feature names\n",
            "X has feature names, but RandomForestRegressor was fitted without feature names\n",
            "X has feature names, but RandomForestRegressor was fitted without feature names\n",
            "X has feature names, but RandomForestRegressor was fitted without feature names\n",
            "X has feature names, but RandomForestRegressor was fitted without feature names\n",
            "X has feature names, but RandomForestRegressor was fitted without feature names\n",
            "X has feature names, but RandomForestRegressor was fitted without feature names\n",
            "X has feature names, but RandomForestRegressor was fitted without feature names\n",
            "X has feature names, but RandomForestRegressor was fitted without feature names\n",
            "X has feature names, but RandomForestRegressor was fitted without feature names\n",
            "Permutation explainer:  26%|██▌       | 26/100 [00:13<00:36,  2.04it/s]X has feature names, but RandomForestRegressor was fitted without feature names\n",
            "X has feature names, but RandomForestRegressor was fitted without feature names\n",
            "X has feature names, but RandomForestRegressor was fitted without feature names\n",
            "X has feature names, but RandomForestRegressor was fitted without feature names\n",
            "X has feature names, but RandomForestRegressor was fitted without feature names\n",
            "X has feature names, but RandomForestRegressor was fitted without feature names\n",
            "X has feature names, but RandomForestRegressor was fitted without feature names\n",
            "X has feature names, but RandomForestRegressor was fitted without feature names\n",
            "X has feature names, but RandomForestRegressor was fitted without feature names\n",
            "X has feature names, but RandomForestRegressor was fitted without feature names\n",
            "X has feature names, but RandomForestRegressor was fitted without feature names\n",
            "X has feature names, but RandomForestRegressor was fitted without feature names\n",
            "X has feature names, but RandomForestRegressor was fitted without feature names\n",
            "Permutation explainer:  27%|██▋       | 27/100 [00:13<00:36,  1.98it/s]X has feature names, but RandomForestRegressor was fitted without feature names\n",
            "X has feature names, but RandomForestRegressor was fitted without feature names\n",
            "X has feature names, but RandomForestRegressor was fitted without feature names\n",
            "X has feature names, but RandomForestRegressor was fitted without feature names\n",
            "X has feature names, but RandomForestRegressor was fitted without feature names\n",
            "X has feature names, but RandomForestRegressor was fitted without feature names\n",
            "X has feature names, but RandomForestRegressor was fitted without feature names\n",
            "X has feature names, but RandomForestRegressor was fitted without feature names\n",
            "X has feature names, but RandomForestRegressor was fitted without feature names\n",
            "X has feature names, but RandomForestRegressor was fitted without feature names\n",
            "X has feature names, but RandomForestRegressor was fitted without feature names\n",
            "X has feature names, but RandomForestRegressor was fitted without feature names\n",
            "X has feature names, but RandomForestRegressor was fitted without feature names\n",
            "Permutation explainer:  28%|██▊       | 28/100 [00:14<00:39,  1.84it/s]X has feature names, but RandomForestRegressor was fitted without feature names\n",
            "X has feature names, but RandomForestRegressor was fitted without feature names\n",
            "X has feature names, but RandomForestRegressor was fitted without feature names\n",
            "X has feature names, but RandomForestRegressor was fitted without feature names\n",
            "X has feature names, but RandomForestRegressor was fitted without feature names\n",
            "X has feature names, but RandomForestRegressor was fitted without feature names\n",
            "X has feature names, but RandomForestRegressor was fitted without feature names\n",
            "X has feature names, but RandomForestRegressor was fitted without feature names\n",
            "X has feature names, but RandomForestRegressor was fitted without feature names\n",
            "X has feature names, but RandomForestRegressor was fitted without feature names\n",
            "X has feature names, but RandomForestRegressor was fitted without feature names\n",
            "X has feature names, but RandomForestRegressor was fitted without feature names\n",
            "X has feature names, but RandomForestRegressor was fitted without feature names\n",
            "Permutation explainer:  29%|██▉       | 29/100 [00:15<00:41,  1.70it/s]X has feature names, but RandomForestRegressor was fitted without feature names\n",
            "X has feature names, but RandomForestRegressor was fitted without feature names\n",
            "X has feature names, but RandomForestRegressor was fitted without feature names\n",
            "X has feature names, but RandomForestRegressor was fitted without feature names\n",
            "X has feature names, but RandomForestRegressor was fitted without feature names\n",
            "X has feature names, but RandomForestRegressor was fitted without feature names\n",
            "X has feature names, but RandomForestRegressor was fitted without feature names\n",
            "X has feature names, but RandomForestRegressor was fitted without feature names\n",
            "X has feature names, but RandomForestRegressor was fitted without feature names\n",
            "X has feature names, but RandomForestRegressor was fitted without feature names\n",
            "X has feature names, but RandomForestRegressor was fitted without feature names\n",
            "X has feature names, but RandomForestRegressor was fitted without feature names\n",
            "X has feature names, but RandomForestRegressor was fitted without feature names\n",
            "Permutation explainer:  30%|███       | 30/100 [00:15<00:44,  1.58it/s]X has feature names, but RandomForestRegressor was fitted without feature names\n",
            "X has feature names, but RandomForestRegressor was fitted without feature names\n",
            "X has feature names, but RandomForestRegressor was fitted without feature names\n",
            "X has feature names, but RandomForestRegressor was fitted without feature names\n",
            "X has feature names, but RandomForestRegressor was fitted without feature names\n",
            "X has feature names, but RandomForestRegressor was fitted without feature names\n",
            "X has feature names, but RandomForestRegressor was fitted without feature names\n",
            "X has feature names, but RandomForestRegressor was fitted without feature names\n",
            "X has feature names, but RandomForestRegressor was fitted without feature names\n",
            "X has feature names, but RandomForestRegressor was fitted without feature names\n",
            "X has feature names, but RandomForestRegressor was fitted without feature names\n",
            "X has feature names, but RandomForestRegressor was fitted without feature names\n",
            "X has feature names, but RandomForestRegressor was fitted without feature names\n",
            "Permutation explainer:  31%|███       | 31/100 [00:16<00:45,  1.53it/s]X has feature names, but RandomForestRegressor was fitted without feature names\n",
            "X has feature names, but RandomForestRegressor was fitted without feature names\n",
            "X has feature names, but RandomForestRegressor was fitted without feature names\n",
            "X has feature names, but RandomForestRegressor was fitted without feature names\n",
            "X has feature names, but RandomForestRegressor was fitted without feature names\n",
            "X has feature names, but RandomForestRegressor was fitted without feature names\n",
            "X has feature names, but RandomForestRegressor was fitted without feature names\n",
            "X has feature names, but RandomForestRegressor was fitted without feature names\n",
            "X has feature names, but RandomForestRegressor was fitted without feature names\n",
            "X has feature names, but RandomForestRegressor was fitted without feature names\n",
            "X has feature names, but RandomForestRegressor was fitted without feature names\n",
            "X has feature names, but RandomForestRegressor was fitted without feature names\n",
            "X has feature names, but RandomForestRegressor was fitted without feature names\n",
            "Permutation explainer:  32%|███▏      | 32/100 [00:17<00:42,  1.60it/s]X has feature names, but RandomForestRegressor was fitted without feature names\n",
            "X has feature names, but RandomForestRegressor was fitted without feature names\n",
            "X has feature names, but RandomForestRegressor was fitted without feature names\n",
            "X has feature names, but RandomForestRegressor was fitted without feature names\n",
            "X has feature names, but RandomForestRegressor was fitted without feature names\n",
            "X has feature names, but RandomForestRegressor was fitted without feature names\n",
            "X has feature names, but RandomForestRegressor was fitted without feature names\n",
            "X has feature names, but RandomForestRegressor was fitted without feature names\n",
            "X has feature names, but RandomForestRegressor was fitted without feature names\n",
            "X has feature names, but RandomForestRegressor was fitted without feature names\n",
            "X has feature names, but RandomForestRegressor was fitted without feature names\n",
            "X has feature names, but RandomForestRegressor was fitted without feature names\n",
            "X has feature names, but RandomForestRegressor was fitted without feature names\n",
            "Permutation explainer:  33%|███▎      | 33/100 [00:17<00:39,  1.69it/s]X has feature names, but RandomForestRegressor was fitted without feature names\n",
            "X has feature names, but RandomForestRegressor was fitted without feature names\n",
            "X has feature names, but RandomForestRegressor was fitted without feature names\n",
            "X has feature names, but RandomForestRegressor was fitted without feature names\n",
            "X has feature names, but RandomForestRegressor was fitted without feature names\n",
            "X has feature names, but RandomForestRegressor was fitted without feature names\n",
            "X has feature names, but RandomForestRegressor was fitted without feature names\n",
            "X has feature names, but RandomForestRegressor was fitted without feature names\n",
            "X has feature names, but RandomForestRegressor was fitted without feature names\n",
            "X has feature names, but RandomForestRegressor was fitted without feature names\n",
            "X has feature names, but RandomForestRegressor was fitted without feature names\n",
            "X has feature names, but RandomForestRegressor was fitted without feature names\n",
            "X has feature names, but RandomForestRegressor was fitted without feature names\n",
            "Permutation explainer:  34%|███▍      | 34/100 [00:18<00:37,  1.77it/s]X has feature names, but RandomForestRegressor was fitted without feature names\n",
            "X has feature names, but RandomForestRegressor was fitted without feature names\n",
            "X has feature names, but RandomForestRegressor was fitted without feature names\n",
            "X has feature names, but RandomForestRegressor was fitted without feature names\n",
            "X has feature names, but RandomForestRegressor was fitted without feature names\n",
            "X has feature names, but RandomForestRegressor was fitted without feature names\n",
            "X has feature names, but RandomForestRegressor was fitted without feature names\n",
            "X has feature names, but RandomForestRegressor was fitted without feature names\n",
            "X has feature names, but RandomForestRegressor was fitted without feature names\n",
            "X has feature names, but RandomForestRegressor was fitted without feature names\n",
            "X has feature names, but RandomForestRegressor was fitted without feature names\n",
            "X has feature names, but RandomForestRegressor was fitted without feature names\n",
            "X has feature names, but RandomForestRegressor was fitted without feature names\n",
            "Permutation explainer:  35%|███▌      | 35/100 [00:18<00:35,  1.81it/s]X has feature names, but RandomForestRegressor was fitted without feature names\n",
            "X has feature names, but RandomForestRegressor was fitted without feature names\n",
            "X has feature names, but RandomForestRegressor was fitted without feature names\n",
            "X has feature names, but RandomForestRegressor was fitted without feature names\n",
            "X has feature names, but RandomForestRegressor was fitted without feature names\n",
            "X has feature names, but RandomForestRegressor was fitted without feature names\n",
            "X has feature names, but RandomForestRegressor was fitted without feature names\n",
            "X has feature names, but RandomForestRegressor was fitted without feature names\n",
            "X has feature names, but RandomForestRegressor was fitted without feature names\n",
            "X has feature names, but RandomForestRegressor was fitted without feature names\n",
            "X has feature names, but RandomForestRegressor was fitted without feature names\n",
            "X has feature names, but RandomForestRegressor was fitted without feature names\n",
            "X has feature names, but RandomForestRegressor was fitted without feature names\n",
            "Permutation explainer:  36%|███▌      | 36/100 [00:19<00:34,  1.84it/s]X has feature names, but RandomForestRegressor was fitted without feature names\n",
            "X has feature names, but RandomForestRegressor was fitted without feature names\n",
            "X has feature names, but RandomForestRegressor was fitted without feature names\n",
            "X has feature names, but RandomForestRegressor was fitted without feature names\n",
            "X has feature names, but RandomForestRegressor was fitted without feature names\n",
            "X has feature names, but RandomForestRegressor was fitted without feature names\n",
            "X has feature names, but RandomForestRegressor was fitted without feature names\n",
            "X has feature names, but RandomForestRegressor was fitted without feature names\n",
            "X has feature names, but RandomForestRegressor was fitted without feature names\n",
            "X has feature names, but RandomForestRegressor was fitted without feature names\n",
            "X has feature names, but RandomForestRegressor was fitted without feature names\n",
            "X has feature names, but RandomForestRegressor was fitted without feature names\n",
            "X has feature names, but RandomForestRegressor was fitted without feature names\n",
            "Permutation explainer:  37%|███▋      | 37/100 [00:19<00:33,  1.86it/s]X has feature names, but RandomForestRegressor was fitted without feature names\n",
            "X has feature names, but RandomForestRegressor was fitted without feature names\n",
            "X has feature names, but RandomForestRegressor was fitted without feature names\n",
            "X has feature names, but RandomForestRegressor was fitted without feature names\n",
            "X has feature names, but RandomForestRegressor was fitted without feature names\n",
            "X has feature names, but RandomForestRegressor was fitted without feature names\n",
            "X has feature names, but RandomForestRegressor was fitted without feature names\n",
            "X has feature names, but RandomForestRegressor was fitted without feature names\n",
            "X has feature names, but RandomForestRegressor was fitted without feature names\n",
            "X has feature names, but RandomForestRegressor was fitted without feature names\n",
            "X has feature names, but RandomForestRegressor was fitted without feature names\n",
            "X has feature names, but RandomForestRegressor was fitted without feature names\n",
            "X has feature names, but RandomForestRegressor was fitted without feature names\n",
            "Permutation explainer:  38%|███▊      | 38/100 [00:20<00:32,  1.88it/s]X has feature names, but RandomForestRegressor was fitted without feature names\n",
            "X has feature names, but RandomForestRegressor was fitted without feature names\n",
            "X has feature names, but RandomForestRegressor was fitted without feature names\n",
            "X has feature names, but RandomForestRegressor was fitted without feature names\n",
            "X has feature names, but RandomForestRegressor was fitted without feature names\n",
            "X has feature names, but RandomForestRegressor was fitted without feature names\n",
            "X has feature names, but RandomForestRegressor was fitted without feature names\n",
            "X has feature names, but RandomForestRegressor was fitted without feature names\n",
            "X has feature names, but RandomForestRegressor was fitted without feature names\n",
            "X has feature names, but RandomForestRegressor was fitted without feature names\n",
            "X has feature names, but RandomForestRegressor was fitted without feature names\n",
            "X has feature names, but RandomForestRegressor was fitted without feature names\n",
            "X has feature names, but RandomForestRegressor was fitted without feature names\n",
            "Permutation explainer:  39%|███▉      | 39/100 [00:20<00:32,  1.90it/s]X has feature names, but RandomForestRegressor was fitted without feature names\n",
            "X has feature names, but RandomForestRegressor was fitted without feature names\n",
            "X has feature names, but RandomForestRegressor was fitted without feature names\n",
            "X has feature names, but RandomForestRegressor was fitted without feature names\n",
            "X has feature names, but RandomForestRegressor was fitted without feature names\n",
            "X has feature names, but RandomForestRegressor was fitted without feature names\n",
            "X has feature names, but RandomForestRegressor was fitted without feature names\n",
            "X has feature names, but RandomForestRegressor was fitted without feature names\n",
            "X has feature names, but RandomForestRegressor was fitted without feature names\n",
            "X has feature names, but RandomForestRegressor was fitted without feature names\n",
            "X has feature names, but RandomForestRegressor was fitted without feature names\n",
            "X has feature names, but RandomForestRegressor was fitted without feature names\n",
            "X has feature names, but RandomForestRegressor was fitted without feature names\n",
            "Permutation explainer:  40%|████      | 40/100 [00:21<00:31,  1.91it/s]X has feature names, but RandomForestRegressor was fitted without feature names\n",
            "X has feature names, but RandomForestRegressor was fitted without feature names\n",
            "X has feature names, but RandomForestRegressor was fitted without feature names\n",
            "X has feature names, but RandomForestRegressor was fitted without feature names\n",
            "X has feature names, but RandomForestRegressor was fitted without feature names\n",
            "X has feature names, but RandomForestRegressor was fitted without feature names\n",
            "X has feature names, but RandomForestRegressor was fitted without feature names\n",
            "X has feature names, but RandomForestRegressor was fitted without feature names\n",
            "X has feature names, but RandomForestRegressor was fitted without feature names\n",
            "X has feature names, but RandomForestRegressor was fitted without feature names\n",
            "X has feature names, but RandomForestRegressor was fitted without feature names\n",
            "X has feature names, but RandomForestRegressor was fitted without feature names\n",
            "X has feature names, but RandomForestRegressor was fitted without feature names\n",
            "Permutation explainer:  41%|████      | 41/100 [00:21<00:30,  1.92it/s]X has feature names, but RandomForestRegressor was fitted without feature names\n",
            "X has feature names, but RandomForestRegressor was fitted without feature names\n",
            "X has feature names, but RandomForestRegressor was fitted without feature names\n",
            "X has feature names, but RandomForestRegressor was fitted without feature names\n",
            "X has feature names, but RandomForestRegressor was fitted without feature names\n",
            "X has feature names, but RandomForestRegressor was fitted without feature names\n",
            "X has feature names, but RandomForestRegressor was fitted without feature names\n",
            "X has feature names, but RandomForestRegressor was fitted without feature names\n",
            "X has feature names, but RandomForestRegressor was fitted without feature names\n",
            "X has feature names, but RandomForestRegressor was fitted without feature names\n",
            "X has feature names, but RandomForestRegressor was fitted without feature names\n",
            "X has feature names, but RandomForestRegressor was fitted without feature names\n",
            "X has feature names, but RandomForestRegressor was fitted without feature names\n",
            "Permutation explainer:  42%|████▏     | 42/100 [00:22<00:29,  1.94it/s]X has feature names, but RandomForestRegressor was fitted without feature names\n",
            "X has feature names, but RandomForestRegressor was fitted without feature names\n",
            "X has feature names, but RandomForestRegressor was fitted without feature names\n",
            "X has feature names, but RandomForestRegressor was fitted without feature names\n",
            "X has feature names, but RandomForestRegressor was fitted without feature names\n",
            "X has feature names, but RandomForestRegressor was fitted without feature names\n",
            "X has feature names, but RandomForestRegressor was fitted without feature names\n",
            "X has feature names, but RandomForestRegressor was fitted without feature names\n",
            "X has feature names, but RandomForestRegressor was fitted without feature names\n",
            "X has feature names, but RandomForestRegressor was fitted without feature names\n",
            "X has feature names, but RandomForestRegressor was fitted without feature names\n",
            "X has feature names, but RandomForestRegressor was fitted without feature names\n",
            "X has feature names, but RandomForestRegressor was fitted without feature names\n",
            "Permutation explainer:  43%|████▎     | 43/100 [00:22<00:29,  1.90it/s]X has feature names, but RandomForestRegressor was fitted without feature names\n",
            "X has feature names, but RandomForestRegressor was fitted without feature names\n",
            "X has feature names, but RandomForestRegressor was fitted without feature names\n",
            "X has feature names, but RandomForestRegressor was fitted without feature names\n",
            "X has feature names, but RandomForestRegressor was fitted without feature names\n",
            "X has feature names, but RandomForestRegressor was fitted without feature names\n",
            "X has feature names, but RandomForestRegressor was fitted without feature names\n",
            "X has feature names, but RandomForestRegressor was fitted without feature names\n",
            "X has feature names, but RandomForestRegressor was fitted without feature names\n",
            "X has feature names, but RandomForestRegressor was fitted without feature names\n",
            "X has feature names, but RandomForestRegressor was fitted without feature names\n",
            "X has feature names, but RandomForestRegressor was fitted without feature names\n",
            "X has feature names, but RandomForestRegressor was fitted without feature names\n",
            "Permutation explainer:  44%|████▍     | 44/100 [00:23<00:29,  1.90it/s]X has feature names, but RandomForestRegressor was fitted without feature names\n",
            "X has feature names, but RandomForestRegressor was fitted without feature names\n",
            "X has feature names, but RandomForestRegressor was fitted without feature names\n",
            "X has feature names, but RandomForestRegressor was fitted without feature names\n",
            "X has feature names, but RandomForestRegressor was fitted without feature names\n",
            "X has feature names, but RandomForestRegressor was fitted without feature names\n",
            "X has feature names, but RandomForestRegressor was fitted without feature names\n",
            "X has feature names, but RandomForestRegressor was fitted without feature names\n",
            "X has feature names, but RandomForestRegressor was fitted without feature names\n",
            "X has feature names, but RandomForestRegressor was fitted without feature names\n",
            "X has feature names, but RandomForestRegressor was fitted without feature names\n",
            "X has feature names, but RandomForestRegressor was fitted without feature names\n",
            "X has feature names, but RandomForestRegressor was fitted without feature names\n",
            "Permutation explainer:  45%|████▌     | 45/100 [00:23<00:29,  1.86it/s]X has feature names, but RandomForestRegressor was fitted without feature names\n",
            "X has feature names, but RandomForestRegressor was fitted without feature names\n",
            "X has feature names, but RandomForestRegressor was fitted without feature names\n",
            "X has feature names, but RandomForestRegressor was fitted without feature names\n",
            "X has feature names, but RandomForestRegressor was fitted without feature names\n",
            "X has feature names, but RandomForestRegressor was fitted without feature names\n",
            "X has feature names, but RandomForestRegressor was fitted without feature names\n",
            "X has feature names, but RandomForestRegressor was fitted without feature names\n",
            "X has feature names, but RandomForestRegressor was fitted without feature names\n",
            "X has feature names, but RandomForestRegressor was fitted without feature names\n",
            "X has feature names, but RandomForestRegressor was fitted without feature names\n",
            "X has feature names, but RandomForestRegressor was fitted without feature names\n",
            "X has feature names, but RandomForestRegressor was fitted without feature names\n",
            "Permutation explainer:  46%|████▌     | 46/100 [00:24<00:28,  1.88it/s]X has feature names, but RandomForestRegressor was fitted without feature names\n",
            "X has feature names, but RandomForestRegressor was fitted without feature names\n",
            "X has feature names, but RandomForestRegressor was fitted without feature names\n",
            "X has feature names, but RandomForestRegressor was fitted without feature names\n",
            "X has feature names, but RandomForestRegressor was fitted without feature names\n",
            "X has feature names, but RandomForestRegressor was fitted without feature names\n",
            "X has feature names, but RandomForestRegressor was fitted without feature names\n",
            "X has feature names, but RandomForestRegressor was fitted without feature names\n",
            "X has feature names, but RandomForestRegressor was fitted without feature names\n",
            "X has feature names, but RandomForestRegressor was fitted without feature names\n",
            "X has feature names, but RandomForestRegressor was fitted without feature names\n",
            "X has feature names, but RandomForestRegressor was fitted without feature names\n",
            "X has feature names, but RandomForestRegressor was fitted without feature names\n",
            "Permutation explainer:  47%|████▋     | 47/100 [00:24<00:28,  1.89it/s]X has feature names, but RandomForestRegressor was fitted without feature names\n",
            "X has feature names, but RandomForestRegressor was fitted without feature names\n",
            "X has feature names, but RandomForestRegressor was fitted without feature names\n",
            "X has feature names, but RandomForestRegressor was fitted without feature names\n",
            "X has feature names, but RandomForestRegressor was fitted without feature names\n",
            "X has feature names, but RandomForestRegressor was fitted without feature names\n",
            "X has feature names, but RandomForestRegressor was fitted without feature names\n",
            "X has feature names, but RandomForestRegressor was fitted without feature names\n",
            "X has feature names, but RandomForestRegressor was fitted without feature names\n",
            "X has feature names, but RandomForestRegressor was fitted without feature names\n",
            "X has feature names, but RandomForestRegressor was fitted without feature names\n",
            "X has feature names, but RandomForestRegressor was fitted without feature names\n",
            "X has feature names, but RandomForestRegressor was fitted without feature names\n",
            "Permutation explainer:  48%|████▊     | 48/100 [00:25<00:27,  1.88it/s]X has feature names, but RandomForestRegressor was fitted without feature names\n",
            "X has feature names, but RandomForestRegressor was fitted without feature names\n",
            "X has feature names, but RandomForestRegressor was fitted without feature names\n",
            "X has feature names, but RandomForestRegressor was fitted without feature names\n",
            "X has feature names, but RandomForestRegressor was fitted without feature names\n",
            "X has feature names, but RandomForestRegressor was fitted without feature names\n",
            "X has feature names, but RandomForestRegressor was fitted without feature names\n",
            "X has feature names, but RandomForestRegressor was fitted without feature names\n",
            "X has feature names, but RandomForestRegressor was fitted without feature names\n",
            "X has feature names, but RandomForestRegressor was fitted without feature names\n",
            "X has feature names, but RandomForestRegressor was fitted without feature names\n",
            "X has feature names, but RandomForestRegressor was fitted without feature names\n",
            "X has feature names, but RandomForestRegressor was fitted without feature names\n",
            "Permutation explainer:  49%|████▉     | 49/100 [00:25<00:26,  1.89it/s]X has feature names, but RandomForestRegressor was fitted without feature names\n",
            "X has feature names, but RandomForestRegressor was fitted without feature names\n",
            "X has feature names, but RandomForestRegressor was fitted without feature names\n",
            "X has feature names, but RandomForestRegressor was fitted without feature names\n",
            "X has feature names, but RandomForestRegressor was fitted without feature names\n",
            "X has feature names, but RandomForestRegressor was fitted without feature names\n",
            "X has feature names, but RandomForestRegressor was fitted without feature names\n",
            "X has feature names, but RandomForestRegressor was fitted without feature names\n",
            "X has feature names, but RandomForestRegressor was fitted without feature names\n",
            "X has feature names, but RandomForestRegressor was fitted without feature names\n",
            "X has feature names, but RandomForestRegressor was fitted without feature names\n",
            "X has feature names, but RandomForestRegressor was fitted without feature names\n",
            "X has feature names, but RandomForestRegressor was fitted without feature names\n",
            "Permutation explainer:  50%|█████     | 50/100 [00:26<00:26,  1.89it/s]X has feature names, but RandomForestRegressor was fitted without feature names\n",
            "X has feature names, but RandomForestRegressor was fitted without feature names\n",
            "X has feature names, but RandomForestRegressor was fitted without feature names\n",
            "X has feature names, but RandomForestRegressor was fitted without feature names\n",
            "X has feature names, but RandomForestRegressor was fitted without feature names\n",
            "X has feature names, but RandomForestRegressor was fitted without feature names\n",
            "X has feature names, but RandomForestRegressor was fitted without feature names\n",
            "X has feature names, but RandomForestRegressor was fitted without feature names\n",
            "X has feature names, but RandomForestRegressor was fitted without feature names\n",
            "X has feature names, but RandomForestRegressor was fitted without feature names\n",
            "X has feature names, but RandomForestRegressor was fitted without feature names\n",
            "X has feature names, but RandomForestRegressor was fitted without feature names\n",
            "X has feature names, but RandomForestRegressor was fitted without feature names\n",
            "Permutation explainer:  51%|█████     | 51/100 [00:27<00:27,  1.81it/s]X has feature names, but RandomForestRegressor was fitted without feature names\n",
            "X has feature names, but RandomForestRegressor was fitted without feature names\n",
            "X has feature names, but RandomForestRegressor was fitted without feature names\n",
            "X has feature names, but RandomForestRegressor was fitted without feature names\n",
            "X has feature names, but RandomForestRegressor was fitted without feature names\n",
            "X has feature names, but RandomForestRegressor was fitted without feature names\n",
            "X has feature names, but RandomForestRegressor was fitted without feature names\n",
            "X has feature names, but RandomForestRegressor was fitted without feature names\n",
            "X has feature names, but RandomForestRegressor was fitted without feature names\n",
            "X has feature names, but RandomForestRegressor was fitted without feature names\n",
            "X has feature names, but RandomForestRegressor was fitted without feature names\n",
            "X has feature names, but RandomForestRegressor was fitted without feature names\n",
            "X has feature names, but RandomForestRegressor was fitted without feature names\n",
            "Permutation explainer:  52%|█████▏    | 52/100 [00:27<00:27,  1.72it/s]X has feature names, but RandomForestRegressor was fitted without feature names\n",
            "X has feature names, but RandomForestRegressor was fitted without feature names\n",
            "X has feature names, but RandomForestRegressor was fitted without feature names\n",
            "X has feature names, but RandomForestRegressor was fitted without feature names\n",
            "X has feature names, but RandomForestRegressor was fitted without feature names\n",
            "X has feature names, but RandomForestRegressor was fitted without feature names\n",
            "X has feature names, but RandomForestRegressor was fitted without feature names\n",
            "X has feature names, but RandomForestRegressor was fitted without feature names\n",
            "X has feature names, but RandomForestRegressor was fitted without feature names\n",
            "X has feature names, but RandomForestRegressor was fitted without feature names\n",
            "X has feature names, but RandomForestRegressor was fitted without feature names\n",
            "X has feature names, but RandomForestRegressor was fitted without feature names\n",
            "X has feature names, but RandomForestRegressor was fitted without feature names\n",
            "Permutation explainer:  53%|█████▎    | 53/100 [00:28<00:29,  1.62it/s]X has feature names, but RandomForestRegressor was fitted without feature names\n",
            "X has feature names, but RandomForestRegressor was fitted without feature names\n",
            "X has feature names, but RandomForestRegressor was fitted without feature names\n",
            "X has feature names, but RandomForestRegressor was fitted without feature names\n",
            "X has feature names, but RandomForestRegressor was fitted without feature names\n",
            "X has feature names, but RandomForestRegressor was fitted without feature names\n",
            "X has feature names, but RandomForestRegressor was fitted without feature names\n",
            "X has feature names, but RandomForestRegressor was fitted without feature names\n",
            "X has feature names, but RandomForestRegressor was fitted without feature names\n",
            "X has feature names, but RandomForestRegressor was fitted without feature names\n",
            "X has feature names, but RandomForestRegressor was fitted without feature names\n",
            "X has feature names, but RandomForestRegressor was fitted without feature names\n",
            "X has feature names, but RandomForestRegressor was fitted without feature names\n",
            "Permutation explainer:  54%|█████▍    | 54/100 [00:29<00:29,  1.56it/s]X has feature names, but RandomForestRegressor was fitted without feature names\n",
            "X has feature names, but RandomForestRegressor was fitted without feature names\n",
            "X has feature names, but RandomForestRegressor was fitted without feature names\n",
            "X has feature names, but RandomForestRegressor was fitted without feature names\n",
            "X has feature names, but RandomForestRegressor was fitted without feature names\n",
            "X has feature names, but RandomForestRegressor was fitted without feature names\n",
            "X has feature names, but RandomForestRegressor was fitted without feature names\n",
            "X has feature names, but RandomForestRegressor was fitted without feature names\n",
            "X has feature names, but RandomForestRegressor was fitted without feature names\n",
            "X has feature names, but RandomForestRegressor was fitted without feature names\n",
            "X has feature names, but RandomForestRegressor was fitted without feature names\n",
            "X has feature names, but RandomForestRegressor was fitted without feature names\n",
            "X has feature names, but RandomForestRegressor was fitted without feature names\n",
            "Permutation explainer:  55%|█████▌    | 55/100 [00:29<00:28,  1.60it/s]X has feature names, but RandomForestRegressor was fitted without feature names\n",
            "X has feature names, but RandomForestRegressor was fitted without feature names\n",
            "X has feature names, but RandomForestRegressor was fitted without feature names\n",
            "X has feature names, but RandomForestRegressor was fitted without feature names\n",
            "X has feature names, but RandomForestRegressor was fitted without feature names\n",
            "X has feature names, but RandomForestRegressor was fitted without feature names\n",
            "X has feature names, but RandomForestRegressor was fitted without feature names\n",
            "X has feature names, but RandomForestRegressor was fitted without feature names\n",
            "X has feature names, but RandomForestRegressor was fitted without feature names\n",
            "X has feature names, but RandomForestRegressor was fitted without feature names\n",
            "X has feature names, but RandomForestRegressor was fitted without feature names\n",
            "X has feature names, but RandomForestRegressor was fitted without feature names\n",
            "X has feature names, but RandomForestRegressor was fitted without feature names\n",
            "Permutation explainer:  56%|█████▌    | 56/100 [00:30<00:26,  1.69it/s]X has feature names, but RandomForestRegressor was fitted without feature names\n",
            "X has feature names, but RandomForestRegressor was fitted without feature names\n",
            "X has feature names, but RandomForestRegressor was fitted without feature names\n",
            "X has feature names, but RandomForestRegressor was fitted without feature names\n",
            "X has feature names, but RandomForestRegressor was fitted without feature names\n",
            "X has feature names, but RandomForestRegressor was fitted without feature names\n",
            "X has feature names, but RandomForestRegressor was fitted without feature names\n",
            "X has feature names, but RandomForestRegressor was fitted without feature names\n",
            "X has feature names, but RandomForestRegressor was fitted without feature names\n",
            "X has feature names, but RandomForestRegressor was fitted without feature names\n",
            "X has feature names, but RandomForestRegressor was fitted without feature names\n",
            "X has feature names, but RandomForestRegressor was fitted without feature names\n",
            "X has feature names, but RandomForestRegressor was fitted without feature names\n",
            "Permutation explainer:  57%|█████▋    | 57/100 [00:30<00:24,  1.77it/s]X has feature names, but RandomForestRegressor was fitted without feature names\n",
            "X has feature names, but RandomForestRegressor was fitted without feature names\n",
            "X has feature names, but RandomForestRegressor was fitted without feature names\n",
            "X has feature names, but RandomForestRegressor was fitted without feature names\n",
            "X has feature names, but RandomForestRegressor was fitted without feature names\n",
            "X has feature names, but RandomForestRegressor was fitted without feature names\n",
            "X has feature names, but RandomForestRegressor was fitted without feature names\n",
            "X has feature names, but RandomForestRegressor was fitted without feature names\n",
            "X has feature names, but RandomForestRegressor was fitted without feature names\n",
            "X has feature names, but RandomForestRegressor was fitted without feature names\n",
            "X has feature names, but RandomForestRegressor was fitted without feature names\n",
            "X has feature names, but RandomForestRegressor was fitted without feature names\n",
            "X has feature names, but RandomForestRegressor was fitted without feature names\n",
            "Permutation explainer:  58%|█████▊    | 58/100 [00:31<00:23,  1.80it/s]X has feature names, but RandomForestRegressor was fitted without feature names\n",
            "X has feature names, but RandomForestRegressor was fitted without feature names\n",
            "X has feature names, but RandomForestRegressor was fitted without feature names\n",
            "X has feature names, but RandomForestRegressor was fitted without feature names\n",
            "X has feature names, but RandomForestRegressor was fitted without feature names\n",
            "X has feature names, but RandomForestRegressor was fitted without feature names\n",
            "X has feature names, but RandomForestRegressor was fitted without feature names\n",
            "X has feature names, but RandomForestRegressor was fitted without feature names\n",
            "X has feature names, but RandomForestRegressor was fitted without feature names\n",
            "X has feature names, but RandomForestRegressor was fitted without feature names\n",
            "X has feature names, but RandomForestRegressor was fitted without feature names\n",
            "X has feature names, but RandomForestRegressor was fitted without feature names\n",
            "X has feature names, but RandomForestRegressor was fitted without feature names\n",
            "Permutation explainer:  59%|█████▉    | 59/100 [00:31<00:22,  1.81it/s]X has feature names, but RandomForestRegressor was fitted without feature names\n",
            "X has feature names, but RandomForestRegressor was fitted without feature names\n",
            "X has feature names, but RandomForestRegressor was fitted without feature names\n",
            "X has feature names, but RandomForestRegressor was fitted without feature names\n",
            "X has feature names, but RandomForestRegressor was fitted without feature names\n",
            "X has feature names, but RandomForestRegressor was fitted without feature names\n",
            "X has feature names, but RandomForestRegressor was fitted without feature names\n",
            "X has feature names, but RandomForestRegressor was fitted without feature names\n",
            "X has feature names, but RandomForestRegressor was fitted without feature names\n",
            "X has feature names, but RandomForestRegressor was fitted without feature names\n",
            "X has feature names, but RandomForestRegressor was fitted without feature names\n",
            "X has feature names, but RandomForestRegressor was fitted without feature names\n",
            "X has feature names, but RandomForestRegressor was fitted without feature names\n",
            "Permutation explainer:  60%|██████    | 60/100 [00:32<00:21,  1.83it/s]X has feature names, but RandomForestRegressor was fitted without feature names\n",
            "X has feature names, but RandomForestRegressor was fitted without feature names\n",
            "X has feature names, but RandomForestRegressor was fitted without feature names\n",
            "X has feature names, but RandomForestRegressor was fitted without feature names\n",
            "X has feature names, but RandomForestRegressor was fitted without feature names\n",
            "X has feature names, but RandomForestRegressor was fitted without feature names\n",
            "X has feature names, but RandomForestRegressor was fitted without feature names\n",
            "X has feature names, but RandomForestRegressor was fitted without feature names\n",
            "X has feature names, but RandomForestRegressor was fitted without feature names\n",
            "X has feature names, but RandomForestRegressor was fitted without feature names\n",
            "X has feature names, but RandomForestRegressor was fitted without feature names\n",
            "X has feature names, but RandomForestRegressor was fitted without feature names\n",
            "X has feature names, but RandomForestRegressor was fitted without feature names\n",
            "Permutation explainer:  61%|██████    | 61/100 [00:32<00:21,  1.83it/s]X has feature names, but RandomForestRegressor was fitted without feature names\n",
            "X has feature names, but RandomForestRegressor was fitted without feature names\n",
            "X has feature names, but RandomForestRegressor was fitted without feature names\n",
            "X has feature names, but RandomForestRegressor was fitted without feature names\n",
            "X has feature names, but RandomForestRegressor was fitted without feature names\n",
            "X has feature names, but RandomForestRegressor was fitted without feature names\n",
            "X has feature names, but RandomForestRegressor was fitted without feature names\n",
            "X has feature names, but RandomForestRegressor was fitted without feature names\n",
            "X has feature names, but RandomForestRegressor was fitted without feature names\n",
            "X has feature names, but RandomForestRegressor was fitted without feature names\n",
            "X has feature names, but RandomForestRegressor was fitted without feature names\n",
            "X has feature names, but RandomForestRegressor was fitted without feature names\n",
            "X has feature names, but RandomForestRegressor was fitted without feature names\n",
            "Permutation explainer:  62%|██████▏   | 62/100 [00:33<00:20,  1.83it/s]X has feature names, but RandomForestRegressor was fitted without feature names\n",
            "X has feature names, but RandomForestRegressor was fitted without feature names\n",
            "X has feature names, but RandomForestRegressor was fitted without feature names\n",
            "X has feature names, but RandomForestRegressor was fitted without feature names\n",
            "X has feature names, but RandomForestRegressor was fitted without feature names\n",
            "X has feature names, but RandomForestRegressor was fitted without feature names\n",
            "X has feature names, but RandomForestRegressor was fitted without feature names\n",
            "X has feature names, but RandomForestRegressor was fitted without feature names\n",
            "X has feature names, but RandomForestRegressor was fitted without feature names\n",
            "X has feature names, but RandomForestRegressor was fitted without feature names\n",
            "X has feature names, but RandomForestRegressor was fitted without feature names\n",
            "X has feature names, but RandomForestRegressor was fitted without feature names\n",
            "X has feature names, but RandomForestRegressor was fitted without feature names\n",
            "Permutation explainer:  63%|██████▎   | 63/100 [00:34<00:19,  1.86it/s]X has feature names, but RandomForestRegressor was fitted without feature names\n",
            "X has feature names, but RandomForestRegressor was fitted without feature names\n",
            "X has feature names, but RandomForestRegressor was fitted without feature names\n",
            "X has feature names, but RandomForestRegressor was fitted without feature names\n",
            "X has feature names, but RandomForestRegressor was fitted without feature names\n",
            "X has feature names, but RandomForestRegressor was fitted without feature names\n",
            "X has feature names, but RandomForestRegressor was fitted without feature names\n",
            "X has feature names, but RandomForestRegressor was fitted without feature names\n",
            "X has feature names, but RandomForestRegressor was fitted without feature names\n",
            "X has feature names, but RandomForestRegressor was fitted without feature names\n",
            "X has feature names, but RandomForestRegressor was fitted without feature names\n",
            "X has feature names, but RandomForestRegressor was fitted without feature names\n",
            "X has feature names, but RandomForestRegressor was fitted without feature names\n",
            "Permutation explainer:  64%|██████▍   | 64/100 [00:34<00:19,  1.88it/s]X has feature names, but RandomForestRegressor was fitted without feature names\n",
            "X has feature names, but RandomForestRegressor was fitted without feature names\n",
            "X has feature names, but RandomForestRegressor was fitted without feature names\n",
            "X has feature names, but RandomForestRegressor was fitted without feature names\n",
            "X has feature names, but RandomForestRegressor was fitted without feature names\n",
            "X has feature names, but RandomForestRegressor was fitted without feature names\n",
            "X has feature names, but RandomForestRegressor was fitted without feature names\n",
            "X has feature names, but RandomForestRegressor was fitted without feature names\n",
            "X has feature names, but RandomForestRegressor was fitted without feature names\n",
            "X has feature names, but RandomForestRegressor was fitted without feature names\n",
            "X has feature names, but RandomForestRegressor was fitted without feature names\n",
            "X has feature names, but RandomForestRegressor was fitted without feature names\n",
            "X has feature names, but RandomForestRegressor was fitted without feature names\n",
            "Permutation explainer:  65%|██████▌   | 65/100 [00:35<00:18,  1.90it/s]X has feature names, but RandomForestRegressor was fitted without feature names\n",
            "X has feature names, but RandomForestRegressor was fitted without feature names\n",
            "X has feature names, but RandomForestRegressor was fitted without feature names\n",
            "X has feature names, but RandomForestRegressor was fitted without feature names\n",
            "X has feature names, but RandomForestRegressor was fitted without feature names\n",
            "X has feature names, but RandomForestRegressor was fitted without feature names\n",
            "X has feature names, but RandomForestRegressor was fitted without feature names\n",
            "X has feature names, but RandomForestRegressor was fitted without feature names\n",
            "X has feature names, but RandomForestRegressor was fitted without feature names\n",
            "X has feature names, but RandomForestRegressor was fitted without feature names\n",
            "X has feature names, but RandomForestRegressor was fitted without feature names\n",
            "X has feature names, but RandomForestRegressor was fitted without feature names\n",
            "X has feature names, but RandomForestRegressor was fitted without feature names\n",
            "Permutation explainer:  66%|██████▌   | 66/100 [00:35<00:17,  1.90it/s]X has feature names, but RandomForestRegressor was fitted without feature names\n",
            "X has feature names, but RandomForestRegressor was fitted without feature names\n",
            "X has feature names, but RandomForestRegressor was fitted without feature names\n",
            "X has feature names, but RandomForestRegressor was fitted without feature names\n",
            "X has feature names, but RandomForestRegressor was fitted without feature names\n",
            "X has feature names, but RandomForestRegressor was fitted without feature names\n",
            "X has feature names, but RandomForestRegressor was fitted without feature names\n",
            "X has feature names, but RandomForestRegressor was fitted without feature names\n",
            "X has feature names, but RandomForestRegressor was fitted without feature names\n",
            "X has feature names, but RandomForestRegressor was fitted without feature names\n",
            "X has feature names, but RandomForestRegressor was fitted without feature names\n",
            "X has feature names, but RandomForestRegressor was fitted without feature names\n",
            "X has feature names, but RandomForestRegressor was fitted without feature names\n",
            "Permutation explainer:  67%|██████▋   | 67/100 [00:36<00:17,  1.91it/s]X has feature names, but RandomForestRegressor was fitted without feature names\n",
            "X has feature names, but RandomForestRegressor was fitted without feature names\n",
            "X has feature names, but RandomForestRegressor was fitted without feature names\n",
            "X has feature names, but RandomForestRegressor was fitted without feature names\n",
            "X has feature names, but RandomForestRegressor was fitted without feature names\n",
            "X has feature names, but RandomForestRegressor was fitted without feature names\n",
            "X has feature names, but RandomForestRegressor was fitted without feature names\n",
            "X has feature names, but RandomForestRegressor was fitted without feature names\n",
            "X has feature names, but RandomForestRegressor was fitted without feature names\n",
            "X has feature names, but RandomForestRegressor was fitted without feature names\n",
            "X has feature names, but RandomForestRegressor was fitted without feature names\n",
            "X has feature names, but RandomForestRegressor was fitted without feature names\n",
            "X has feature names, but RandomForestRegressor was fitted without feature names\n",
            "Permutation explainer:  68%|██████▊   | 68/100 [00:36<00:16,  1.94it/s]X has feature names, but RandomForestRegressor was fitted without feature names\n",
            "X has feature names, but RandomForestRegressor was fitted without feature names\n",
            "X has feature names, but RandomForestRegressor was fitted without feature names\n",
            "X has feature names, but RandomForestRegressor was fitted without feature names\n",
            "X has feature names, but RandomForestRegressor was fitted without feature names\n",
            "X has feature names, but RandomForestRegressor was fitted without feature names\n",
            "X has feature names, but RandomForestRegressor was fitted without feature names\n",
            "X has feature names, but RandomForestRegressor was fitted without feature names\n",
            "X has feature names, but RandomForestRegressor was fitted without feature names\n",
            "X has feature names, but RandomForestRegressor was fitted without feature names\n",
            "X has feature names, but RandomForestRegressor was fitted without feature names\n",
            "X has feature names, but RandomForestRegressor was fitted without feature names\n",
            "X has feature names, but RandomForestRegressor was fitted without feature names\n",
            "Permutation explainer:  69%|██████▉   | 69/100 [00:37<00:15,  1.95it/s]X has feature names, but RandomForestRegressor was fitted without feature names\n",
            "X has feature names, but RandomForestRegressor was fitted without feature names\n",
            "X has feature names, but RandomForestRegressor was fitted without feature names\n",
            "X has feature names, but RandomForestRegressor was fitted without feature names\n",
            "X has feature names, but RandomForestRegressor was fitted without feature names\n",
            "X has feature names, but RandomForestRegressor was fitted without feature names\n",
            "X has feature names, but RandomForestRegressor was fitted without feature names\n",
            "X has feature names, but RandomForestRegressor was fitted without feature names\n",
            "X has feature names, but RandomForestRegressor was fitted without feature names\n",
            "X has feature names, but RandomForestRegressor was fitted without feature names\n",
            "X has feature names, but RandomForestRegressor was fitted without feature names\n",
            "X has feature names, but RandomForestRegressor was fitted without feature names\n",
            "X has feature names, but RandomForestRegressor was fitted without feature names\n",
            "Permutation explainer:  70%|███████   | 70/100 [00:37<00:15,  1.93it/s]X has feature names, but RandomForestRegressor was fitted without feature names\n",
            "X has feature names, but RandomForestRegressor was fitted without feature names\n",
            "X has feature names, but RandomForestRegressor was fitted without feature names\n",
            "X has feature names, but RandomForestRegressor was fitted without feature names\n",
            "X has feature names, but RandomForestRegressor was fitted without feature names\n",
            "X has feature names, but RandomForestRegressor was fitted without feature names\n",
            "X has feature names, but RandomForestRegressor was fitted without feature names\n",
            "X has feature names, but RandomForestRegressor was fitted without feature names\n",
            "X has feature names, but RandomForestRegressor was fitted without feature names\n",
            "X has feature names, but RandomForestRegressor was fitted without feature names\n",
            "X has feature names, but RandomForestRegressor was fitted without feature names\n",
            "X has feature names, but RandomForestRegressor was fitted without feature names\n",
            "X has feature names, but RandomForestRegressor was fitted without feature names\n",
            "Permutation explainer:  71%|███████   | 71/100 [00:38<00:15,  1.93it/s]X has feature names, but RandomForestRegressor was fitted without feature names\n",
            "X has feature names, but RandomForestRegressor was fitted without feature names\n",
            "X has feature names, but RandomForestRegressor was fitted without feature names\n",
            "X has feature names, but RandomForestRegressor was fitted without feature names\n",
            "X has feature names, but RandomForestRegressor was fitted without feature names\n",
            "X has feature names, but RandomForestRegressor was fitted without feature names\n",
            "X has feature names, but RandomForestRegressor was fitted without feature names\n",
            "X has feature names, but RandomForestRegressor was fitted without feature names\n",
            "X has feature names, but RandomForestRegressor was fitted without feature names\n",
            "X has feature names, but RandomForestRegressor was fitted without feature names\n",
            "X has feature names, but RandomForestRegressor was fitted without feature names\n",
            "X has feature names, but RandomForestRegressor was fitted without feature names\n",
            "X has feature names, but RandomForestRegressor was fitted without feature names\n",
            "Permutation explainer:  72%|███████▏  | 72/100 [00:38<00:14,  1.94it/s]X has feature names, but RandomForestRegressor was fitted without feature names\n",
            "X has feature names, but RandomForestRegressor was fitted without feature names\n",
            "X has feature names, but RandomForestRegressor was fitted without feature names\n",
            "X has feature names, but RandomForestRegressor was fitted without feature names\n",
            "X has feature names, but RandomForestRegressor was fitted without feature names\n",
            "X has feature names, but RandomForestRegressor was fitted without feature names\n",
            "X has feature names, but RandomForestRegressor was fitted without feature names\n",
            "X has feature names, but RandomForestRegressor was fitted without feature names\n",
            "X has feature names, but RandomForestRegressor was fitted without feature names\n",
            "X has feature names, but RandomForestRegressor was fitted without feature names\n",
            "X has feature names, but RandomForestRegressor was fitted without feature names\n",
            "X has feature names, but RandomForestRegressor was fitted without feature names\n",
            "X has feature names, but RandomForestRegressor was fitted without feature names\n",
            "Permutation explainer:  73%|███████▎  | 73/100 [00:39<00:13,  1.94it/s]X has feature names, but RandomForestRegressor was fitted without feature names\n",
            "X has feature names, but RandomForestRegressor was fitted without feature names\n",
            "X has feature names, but RandomForestRegressor was fitted without feature names\n",
            "X has feature names, but RandomForestRegressor was fitted without feature names\n",
            "X has feature names, but RandomForestRegressor was fitted without feature names\n",
            "X has feature names, but RandomForestRegressor was fitted without feature names\n",
            "X has feature names, but RandomForestRegressor was fitted without feature names\n",
            "X has feature names, but RandomForestRegressor was fitted without feature names\n",
            "X has feature names, but RandomForestRegressor was fitted without feature names\n",
            "X has feature names, but RandomForestRegressor was fitted without feature names\n",
            "X has feature names, but RandomForestRegressor was fitted without feature names\n",
            "X has feature names, but RandomForestRegressor was fitted without feature names\n",
            "X has feature names, but RandomForestRegressor was fitted without feature names\n",
            "Permutation explainer:  74%|███████▍  | 74/100 [00:39<00:14,  1.85it/s]X has feature names, but RandomForestRegressor was fitted without feature names\n",
            "X has feature names, but RandomForestRegressor was fitted without feature names\n",
            "X has feature names, but RandomForestRegressor was fitted without feature names\n",
            "X has feature names, but RandomForestRegressor was fitted without feature names\n",
            "X has feature names, but RandomForestRegressor was fitted without feature names\n",
            "X has feature names, but RandomForestRegressor was fitted without feature names\n",
            "X has feature names, but RandomForestRegressor was fitted without feature names\n",
            "X has feature names, but RandomForestRegressor was fitted without feature names\n",
            "X has feature names, but RandomForestRegressor was fitted without feature names\n",
            "X has feature names, but RandomForestRegressor was fitted without feature names\n",
            "X has feature names, but RandomForestRegressor was fitted without feature names\n",
            "X has feature names, but RandomForestRegressor was fitted without feature names\n",
            "X has feature names, but RandomForestRegressor was fitted without feature names\n",
            "Permutation explainer:  75%|███████▌  | 75/100 [00:40<00:14,  1.69it/s]X has feature names, but RandomForestRegressor was fitted without feature names\n",
            "X has feature names, but RandomForestRegressor was fitted without feature names\n",
            "X has feature names, but RandomForestRegressor was fitted without feature names\n",
            "X has feature names, but RandomForestRegressor was fitted without feature names\n",
            "X has feature names, but RandomForestRegressor was fitted without feature names\n",
            "X has feature names, but RandomForestRegressor was fitted without feature names\n",
            "X has feature names, but RandomForestRegressor was fitted without feature names\n",
            "X has feature names, but RandomForestRegressor was fitted without feature names\n",
            "X has feature names, but RandomForestRegressor was fitted without feature names\n",
            "X has feature names, but RandomForestRegressor was fitted without feature names\n",
            "X has feature names, but RandomForestRegressor was fitted without feature names\n",
            "X has feature names, but RandomForestRegressor was fitted without feature names\n",
            "X has feature names, but RandomForestRegressor was fitted without feature names\n",
            "Permutation explainer:  76%|███████▌  | 76/100 [00:41<00:15,  1.60it/s]X has feature names, but RandomForestRegressor was fitted without feature names\n",
            "X has feature names, but RandomForestRegressor was fitted without feature names\n",
            "X has feature names, but RandomForestRegressor was fitted without feature names\n",
            "X has feature names, but RandomForestRegressor was fitted without feature names\n",
            "X has feature names, but RandomForestRegressor was fitted without feature names\n",
            "X has feature names, but RandomForestRegressor was fitted without feature names\n",
            "X has feature names, but RandomForestRegressor was fitted without feature names\n",
            "X has feature names, but RandomForestRegressor was fitted without feature names\n",
            "X has feature names, but RandomForestRegressor was fitted without feature names\n",
            "X has feature names, but RandomForestRegressor was fitted without feature names\n",
            "X has feature names, but RandomForestRegressor was fitted without feature names\n",
            "X has feature names, but RandomForestRegressor was fitted without feature names\n",
            "X has feature names, but RandomForestRegressor was fitted without feature names\n",
            "Permutation explainer:  77%|███████▋  | 77/100 [00:41<00:15,  1.51it/s]X has feature names, but RandomForestRegressor was fitted without feature names\n",
            "X has feature names, but RandomForestRegressor was fitted without feature names\n",
            "X has feature names, but RandomForestRegressor was fitted without feature names\n",
            "X has feature names, but RandomForestRegressor was fitted without feature names\n",
            "X has feature names, but RandomForestRegressor was fitted without feature names\n",
            "X has feature names, but RandomForestRegressor was fitted without feature names\n",
            "X has feature names, but RandomForestRegressor was fitted without feature names\n",
            "X has feature names, but RandomForestRegressor was fitted without feature names\n",
            "X has feature names, but RandomForestRegressor was fitted without feature names\n",
            "X has feature names, but RandomForestRegressor was fitted without feature names\n",
            "X has feature names, but RandomForestRegressor was fitted without feature names\n",
            "X has feature names, but RandomForestRegressor was fitted without feature names\n",
            "X has feature names, but RandomForestRegressor was fitted without feature names\n",
            "Permutation explainer:  78%|███████▊  | 78/100 [00:42<00:14,  1.53it/s]X has feature names, but RandomForestRegressor was fitted without feature names\n",
            "X has feature names, but RandomForestRegressor was fitted without feature names\n",
            "X has feature names, but RandomForestRegressor was fitted without feature names\n",
            "X has feature names, but RandomForestRegressor was fitted without feature names\n",
            "X has feature names, but RandomForestRegressor was fitted without feature names\n",
            "X has feature names, but RandomForestRegressor was fitted without feature names\n",
            "X has feature names, but RandomForestRegressor was fitted without feature names\n",
            "X has feature names, but RandomForestRegressor was fitted without feature names\n",
            "X has feature names, but RandomForestRegressor was fitted without feature names\n",
            "X has feature names, but RandomForestRegressor was fitted without feature names\n",
            "X has feature names, but RandomForestRegressor was fitted without feature names\n",
            "X has feature names, but RandomForestRegressor was fitted without feature names\n",
            "X has feature names, but RandomForestRegressor was fitted without feature names\n",
            "Permutation explainer:  79%|███████▉  | 79/100 [00:43<00:12,  1.62it/s]X has feature names, but RandomForestRegressor was fitted without feature names\n",
            "X has feature names, but RandomForestRegressor was fitted without feature names\n",
            "X has feature names, but RandomForestRegressor was fitted without feature names\n",
            "X has feature names, but RandomForestRegressor was fitted without feature names\n",
            "X has feature names, but RandomForestRegressor was fitted without feature names\n",
            "X has feature names, but RandomForestRegressor was fitted without feature names\n",
            "X has feature names, but RandomForestRegressor was fitted without feature names\n",
            "X has feature names, but RandomForestRegressor was fitted without feature names\n",
            "X has feature names, but RandomForestRegressor was fitted without feature names\n",
            "X has feature names, but RandomForestRegressor was fitted without feature names\n",
            "X has feature names, but RandomForestRegressor was fitted without feature names\n",
            "X has feature names, but RandomForestRegressor was fitted without feature names\n",
            "X has feature names, but RandomForestRegressor was fitted without feature names\n",
            "Permutation explainer:  80%|████████  | 80/100 [00:43<00:11,  1.70it/s]X has feature names, but RandomForestRegressor was fitted without feature names\n",
            "X has feature names, but RandomForestRegressor was fitted without feature names\n",
            "X has feature names, but RandomForestRegressor was fitted without feature names\n",
            "X has feature names, but RandomForestRegressor was fitted without feature names\n",
            "X has feature names, but RandomForestRegressor was fitted without feature names\n",
            "X has feature names, but RandomForestRegressor was fitted without feature names\n",
            "X has feature names, but RandomForestRegressor was fitted without feature names\n",
            "X has feature names, but RandomForestRegressor was fitted without feature names\n",
            "X has feature names, but RandomForestRegressor was fitted without feature names\n",
            "X has feature names, but RandomForestRegressor was fitted without feature names\n",
            "X has feature names, but RandomForestRegressor was fitted without feature names\n",
            "X has feature names, but RandomForestRegressor was fitted without feature names\n",
            "X has feature names, but RandomForestRegressor was fitted without feature names\n",
            "Permutation explainer:  81%|████████  | 81/100 [00:44<00:10,  1.74it/s]X has feature names, but RandomForestRegressor was fitted without feature names\n",
            "X has feature names, but RandomForestRegressor was fitted without feature names\n",
            "X has feature names, but RandomForestRegressor was fitted without feature names\n",
            "X has feature names, but RandomForestRegressor was fitted without feature names\n",
            "X has feature names, but RandomForestRegressor was fitted without feature names\n",
            "X has feature names, but RandomForestRegressor was fitted without feature names\n",
            "X has feature names, but RandomForestRegressor was fitted without feature names\n",
            "X has feature names, but RandomForestRegressor was fitted without feature names\n",
            "X has feature names, but RandomForestRegressor was fitted without feature names\n",
            "X has feature names, but RandomForestRegressor was fitted without feature names\n",
            "X has feature names, but RandomForestRegressor was fitted without feature names\n",
            "X has feature names, but RandomForestRegressor was fitted without feature names\n",
            "X has feature names, but RandomForestRegressor was fitted without feature names\n",
            "Permutation explainer:  82%|████████▏ | 82/100 [00:44<00:10,  1.80it/s]X has feature names, but RandomForestRegressor was fitted without feature names\n",
            "X has feature names, but RandomForestRegressor was fitted without feature names\n",
            "X has feature names, but RandomForestRegressor was fitted without feature names\n",
            "X has feature names, but RandomForestRegressor was fitted without feature names\n",
            "X has feature names, but RandomForestRegressor was fitted without feature names\n",
            "X has feature names, but RandomForestRegressor was fitted without feature names\n",
            "X has feature names, but RandomForestRegressor was fitted without feature names\n",
            "X has feature names, but RandomForestRegressor was fitted without feature names\n",
            "X has feature names, but RandomForestRegressor was fitted without feature names\n",
            "X has feature names, but RandomForestRegressor was fitted without feature names\n",
            "X has feature names, but RandomForestRegressor was fitted without feature names\n",
            "X has feature names, but RandomForestRegressor was fitted without feature names\n",
            "X has feature names, but RandomForestRegressor was fitted without feature names\n",
            "Permutation explainer:  83%|████████▎ | 83/100 [00:45<00:09,  1.83it/s]X has feature names, but RandomForestRegressor was fitted without feature names\n",
            "X has feature names, but RandomForestRegressor was fitted without feature names\n",
            "X has feature names, but RandomForestRegressor was fitted without feature names\n",
            "X has feature names, but RandomForestRegressor was fitted without feature names\n",
            "X has feature names, but RandomForestRegressor was fitted without feature names\n",
            "X has feature names, but RandomForestRegressor was fitted without feature names\n",
            "X has feature names, but RandomForestRegressor was fitted without feature names\n",
            "X has feature names, but RandomForestRegressor was fitted without feature names\n",
            "X has feature names, but RandomForestRegressor was fitted without feature names\n",
            "X has feature names, but RandomForestRegressor was fitted without feature names\n",
            "X has feature names, but RandomForestRegressor was fitted without feature names\n",
            "X has feature names, but RandomForestRegressor was fitted without feature names\n",
            "X has feature names, but RandomForestRegressor was fitted without feature names\n",
            "Permutation explainer:  84%|████████▍ | 84/100 [00:45<00:08,  1.84it/s]X has feature names, but RandomForestRegressor was fitted without feature names\n",
            "X has feature names, but RandomForestRegressor was fitted without feature names\n",
            "X has feature names, but RandomForestRegressor was fitted without feature names\n",
            "X has feature names, but RandomForestRegressor was fitted without feature names\n",
            "X has feature names, but RandomForestRegressor was fitted without feature names\n",
            "X has feature names, but RandomForestRegressor was fitted without feature names\n",
            "X has feature names, but RandomForestRegressor was fitted without feature names\n",
            "X has feature names, but RandomForestRegressor was fitted without feature names\n",
            "X has feature names, but RandomForestRegressor was fitted without feature names\n",
            "X has feature names, but RandomForestRegressor was fitted without feature names\n",
            "X has feature names, but RandomForestRegressor was fitted without feature names\n",
            "X has feature names, but RandomForestRegressor was fitted without feature names\n",
            "X has feature names, but RandomForestRegressor was fitted without feature names\n",
            "Permutation explainer:  85%|████████▌ | 85/100 [00:46<00:08,  1.85it/s]X has feature names, but RandomForestRegressor was fitted without feature names\n",
            "X has feature names, but RandomForestRegressor was fitted without feature names\n",
            "X has feature names, but RandomForestRegressor was fitted without feature names\n",
            "X has feature names, but RandomForestRegressor was fitted without feature names\n",
            "X has feature names, but RandomForestRegressor was fitted without feature names\n",
            "X has feature names, but RandomForestRegressor was fitted without feature names\n",
            "X has feature names, but RandomForestRegressor was fitted without feature names\n",
            "X has feature names, but RandomForestRegressor was fitted without feature names\n",
            "X has feature names, but RandomForestRegressor was fitted without feature names\n",
            "X has feature names, but RandomForestRegressor was fitted without feature names\n",
            "X has feature names, but RandomForestRegressor was fitted without feature names\n",
            "X has feature names, but RandomForestRegressor was fitted without feature names\n",
            "X has feature names, but RandomForestRegressor was fitted without feature names\n",
            "Permutation explainer:  86%|████████▌ | 86/100 [00:46<00:07,  1.88it/s]X has feature names, but RandomForestRegressor was fitted without feature names\n",
            "X has feature names, but RandomForestRegressor was fitted without feature names\n",
            "X has feature names, but RandomForestRegressor was fitted without feature names\n",
            "X has feature names, but RandomForestRegressor was fitted without feature names\n",
            "X has feature names, but RandomForestRegressor was fitted without feature names\n",
            "X has feature names, but RandomForestRegressor was fitted without feature names\n",
            "X has feature names, but RandomForestRegressor was fitted without feature names\n",
            "X has feature names, but RandomForestRegressor was fitted without feature names\n",
            "X has feature names, but RandomForestRegressor was fitted without feature names\n",
            "X has feature names, but RandomForestRegressor was fitted without feature names\n",
            "X has feature names, but RandomForestRegressor was fitted without feature names\n",
            "X has feature names, but RandomForestRegressor was fitted without feature names\n",
            "X has feature names, but RandomForestRegressor was fitted without feature names\n",
            "Permutation explainer:  87%|████████▋ | 87/100 [00:47<00:06,  1.89it/s]X has feature names, but RandomForestRegressor was fitted without feature names\n",
            "X has feature names, but RandomForestRegressor was fitted without feature names\n",
            "X has feature names, but RandomForestRegressor was fitted without feature names\n",
            "X has feature names, but RandomForestRegressor was fitted without feature names\n",
            "X has feature names, but RandomForestRegressor was fitted without feature names\n",
            "X has feature names, but RandomForestRegressor was fitted without feature names\n",
            "X has feature names, but RandomForestRegressor was fitted without feature names\n",
            "X has feature names, but RandomForestRegressor was fitted without feature names\n",
            "X has feature names, but RandomForestRegressor was fitted without feature names\n",
            "X has feature names, but RandomForestRegressor was fitted without feature names\n",
            "X has feature names, but RandomForestRegressor was fitted without feature names\n",
            "X has feature names, but RandomForestRegressor was fitted without feature names\n",
            "X has feature names, but RandomForestRegressor was fitted without feature names\n",
            "Permutation explainer:  88%|████████▊ | 88/100 [00:47<00:06,  1.89it/s]X has feature names, but RandomForestRegressor was fitted without feature names\n",
            "X has feature names, but RandomForestRegressor was fitted without feature names\n",
            "X has feature names, but RandomForestRegressor was fitted without feature names\n",
            "X has feature names, but RandomForestRegressor was fitted without feature names\n",
            "X has feature names, but RandomForestRegressor was fitted without feature names\n",
            "X has feature names, but RandomForestRegressor was fitted without feature names\n",
            "X has feature names, but RandomForestRegressor was fitted without feature names\n",
            "X has feature names, but RandomForestRegressor was fitted without feature names\n",
            "X has feature names, but RandomForestRegressor was fitted without feature names\n",
            "X has feature names, but RandomForestRegressor was fitted without feature names\n",
            "X has feature names, but RandomForestRegressor was fitted without feature names\n",
            "X has feature names, but RandomForestRegressor was fitted without feature names\n",
            "X has feature names, but RandomForestRegressor was fitted without feature names\n",
            "Permutation explainer:  89%|████████▉ | 89/100 [00:48<00:05,  1.87it/s]X has feature names, but RandomForestRegressor was fitted without feature names\n",
            "X has feature names, but RandomForestRegressor was fitted without feature names\n",
            "X has feature names, but RandomForestRegressor was fitted without feature names\n",
            "X has feature names, but RandomForestRegressor was fitted without feature names\n",
            "X has feature names, but RandomForestRegressor was fitted without feature names\n",
            "X has feature names, but RandomForestRegressor was fitted without feature names\n",
            "X has feature names, but RandomForestRegressor was fitted without feature names\n",
            "X has feature names, but RandomForestRegressor was fitted without feature names\n",
            "X has feature names, but RandomForestRegressor was fitted without feature names\n",
            "X has feature names, but RandomForestRegressor was fitted without feature names\n",
            "X has feature names, but RandomForestRegressor was fitted without feature names\n",
            "X has feature names, but RandomForestRegressor was fitted without feature names\n",
            "X has feature names, but RandomForestRegressor was fitted without feature names\n",
            "Permutation explainer:  90%|█████████ | 90/100 [00:48<00:05,  1.87it/s]X has feature names, but RandomForestRegressor was fitted without feature names\n",
            "X has feature names, but RandomForestRegressor was fitted without feature names\n",
            "X has feature names, but RandomForestRegressor was fitted without feature names\n",
            "X has feature names, but RandomForestRegressor was fitted without feature names\n",
            "X has feature names, but RandomForestRegressor was fitted without feature names\n",
            "X has feature names, but RandomForestRegressor was fitted without feature names\n",
            "X has feature names, but RandomForestRegressor was fitted without feature names\n",
            "X has feature names, but RandomForestRegressor was fitted without feature names\n",
            "X has feature names, but RandomForestRegressor was fitted without feature names\n",
            "X has feature names, but RandomForestRegressor was fitted without feature names\n",
            "X has feature names, but RandomForestRegressor was fitted without feature names\n",
            "X has feature names, but RandomForestRegressor was fitted without feature names\n",
            "X has feature names, but RandomForestRegressor was fitted without feature names\n",
            "Permutation explainer:  91%|█████████ | 91/100 [00:49<00:04,  1.89it/s]X has feature names, but RandomForestRegressor was fitted without feature names\n",
            "X has feature names, but RandomForestRegressor was fitted without feature names\n",
            "X has feature names, but RandomForestRegressor was fitted without feature names\n",
            "X has feature names, but RandomForestRegressor was fitted without feature names\n",
            "X has feature names, but RandomForestRegressor was fitted without feature names\n",
            "X has feature names, but RandomForestRegressor was fitted without feature names\n",
            "X has feature names, but RandomForestRegressor was fitted without feature names\n",
            "X has feature names, but RandomForestRegressor was fitted without feature names\n",
            "X has feature names, but RandomForestRegressor was fitted without feature names\n",
            "X has feature names, but RandomForestRegressor was fitted without feature names\n",
            "X has feature names, but RandomForestRegressor was fitted without feature names\n",
            "X has feature names, but RandomForestRegressor was fitted without feature names\n",
            "X has feature names, but RandomForestRegressor was fitted without feature names\n",
            "Permutation explainer:  92%|█████████▏| 92/100 [00:49<00:04,  1.86it/s]X has feature names, but RandomForestRegressor was fitted without feature names\n",
            "X has feature names, but RandomForestRegressor was fitted without feature names\n",
            "X has feature names, but RandomForestRegressor was fitted without feature names\n",
            "X has feature names, but RandomForestRegressor was fitted without feature names\n",
            "X has feature names, but RandomForestRegressor was fitted without feature names\n",
            "X has feature names, but RandomForestRegressor was fitted without feature names\n",
            "X has feature names, but RandomForestRegressor was fitted without feature names\n",
            "X has feature names, but RandomForestRegressor was fitted without feature names\n",
            "X has feature names, but RandomForestRegressor was fitted without feature names\n",
            "X has feature names, but RandomForestRegressor was fitted without feature names\n",
            "X has feature names, but RandomForestRegressor was fitted without feature names\n",
            "X has feature names, but RandomForestRegressor was fitted without feature names\n",
            "X has feature names, but RandomForestRegressor was fitted without feature names\n",
            "Permutation explainer:  93%|█████████▎| 93/100 [00:50<00:03,  1.89it/s]X has feature names, but RandomForestRegressor was fitted without feature names\n",
            "X has feature names, but RandomForestRegressor was fitted without feature names\n",
            "X has feature names, but RandomForestRegressor was fitted without feature names\n",
            "X has feature names, but RandomForestRegressor was fitted without feature names\n",
            "X has feature names, but RandomForestRegressor was fitted without feature names\n",
            "X has feature names, but RandomForestRegressor was fitted without feature names\n",
            "X has feature names, but RandomForestRegressor was fitted without feature names\n",
            "X has feature names, but RandomForestRegressor was fitted without feature names\n",
            "X has feature names, but RandomForestRegressor was fitted without feature names\n",
            "X has feature names, but RandomForestRegressor was fitted without feature names\n",
            "X has feature names, but RandomForestRegressor was fitted without feature names\n",
            "X has feature names, but RandomForestRegressor was fitted without feature names\n",
            "X has feature names, but RandomForestRegressor was fitted without feature names\n",
            "Permutation explainer:  94%|█████████▍| 94/100 [00:51<00:03,  1.89it/s]X has feature names, but RandomForestRegressor was fitted without feature names\n",
            "X has feature names, but RandomForestRegressor was fitted without feature names\n",
            "X has feature names, but RandomForestRegressor was fitted without feature names\n",
            "X has feature names, but RandomForestRegressor was fitted without feature names\n",
            "X has feature names, but RandomForestRegressor was fitted without feature names\n",
            "X has feature names, but RandomForestRegressor was fitted without feature names\n",
            "X has feature names, but RandomForestRegressor was fitted without feature names\n",
            "X has feature names, but RandomForestRegressor was fitted without feature names\n",
            "X has feature names, but RandomForestRegressor was fitted without feature names\n",
            "X has feature names, but RandomForestRegressor was fitted without feature names\n",
            "X has feature names, but RandomForestRegressor was fitted without feature names\n",
            "X has feature names, but RandomForestRegressor was fitted without feature names\n",
            "X has feature names, but RandomForestRegressor was fitted without feature names\n",
            "Permutation explainer:  95%|█████████▌| 95/100 [00:51<00:02,  1.91it/s]X has feature names, but RandomForestRegressor was fitted without feature names\n",
            "X has feature names, but RandomForestRegressor was fitted without feature names\n",
            "X has feature names, but RandomForestRegressor was fitted without feature names\n",
            "X has feature names, but RandomForestRegressor was fitted without feature names\n",
            "X has feature names, but RandomForestRegressor was fitted without feature names\n",
            "X has feature names, but RandomForestRegressor was fitted without feature names\n",
            "X has feature names, but RandomForestRegressor was fitted without feature names\n",
            "X has feature names, but RandomForestRegressor was fitted without feature names\n",
            "X has feature names, but RandomForestRegressor was fitted without feature names\n",
            "X has feature names, but RandomForestRegressor was fitted without feature names\n",
            "X has feature names, but RandomForestRegressor was fitted without feature names\n",
            "X has feature names, but RandomForestRegressor was fitted without feature names\n",
            "X has feature names, but RandomForestRegressor was fitted without feature names\n",
            "Permutation explainer:  96%|█████████▌| 96/100 [00:52<00:02,  1.91it/s]X has feature names, but RandomForestRegressor was fitted without feature names\n",
            "X has feature names, but RandomForestRegressor was fitted without feature names\n",
            "X has feature names, but RandomForestRegressor was fitted without feature names\n",
            "X has feature names, but RandomForestRegressor was fitted without feature names\n",
            "X has feature names, but RandomForestRegressor was fitted without feature names\n",
            "X has feature names, but RandomForestRegressor was fitted without feature names\n",
            "X has feature names, but RandomForestRegressor was fitted without feature names\n",
            "X has feature names, but RandomForestRegressor was fitted without feature names\n",
            "X has feature names, but RandomForestRegressor was fitted without feature names\n",
            "X has feature names, but RandomForestRegressor was fitted without feature names\n",
            "X has feature names, but RandomForestRegressor was fitted without feature names\n",
            "X has feature names, but RandomForestRegressor was fitted without feature names\n",
            "X has feature names, but RandomForestRegressor was fitted without feature names\n",
            "Permutation explainer:  97%|█████████▋| 97/100 [00:52<00:01,  1.77it/s]X has feature names, but RandomForestRegressor was fitted without feature names\n",
            "X has feature names, but RandomForestRegressor was fitted without feature names\n",
            "X has feature names, but RandomForestRegressor was fitted without feature names\n",
            "X has feature names, but RandomForestRegressor was fitted without feature names\n",
            "X has feature names, but RandomForestRegressor was fitted without feature names\n",
            "X has feature names, but RandomForestRegressor was fitted without feature names\n",
            "X has feature names, but RandomForestRegressor was fitted without feature names\n",
            "X has feature names, but RandomForestRegressor was fitted without feature names\n",
            "X has feature names, but RandomForestRegressor was fitted without feature names\n",
            "X has feature names, but RandomForestRegressor was fitted without feature names\n",
            "X has feature names, but RandomForestRegressor was fitted without feature names\n",
            "X has feature names, but RandomForestRegressor was fitted without feature names\n",
            "X has feature names, but RandomForestRegressor was fitted without feature names\n",
            "Permutation explainer:  98%|█████████▊| 98/100 [00:53<00:01,  1.66it/s]X has feature names, but RandomForestRegressor was fitted without feature names\n",
            "X has feature names, but RandomForestRegressor was fitted without feature names\n",
            "X has feature names, but RandomForestRegressor was fitted without feature names\n",
            "X has feature names, but RandomForestRegressor was fitted without feature names\n",
            "X has feature names, but RandomForestRegressor was fitted without feature names\n",
            "X has feature names, but RandomForestRegressor was fitted without feature names\n",
            "X has feature names, but RandomForestRegressor was fitted without feature names\n",
            "X has feature names, but RandomForestRegressor was fitted without feature names\n",
            "X has feature names, but RandomForestRegressor was fitted without feature names\n",
            "X has feature names, but RandomForestRegressor was fitted without feature names\n",
            "X has feature names, but RandomForestRegressor was fitted without feature names\n",
            "X has feature names, but RandomForestRegressor was fitted without feature names\n",
            "X has feature names, but RandomForestRegressor was fitted without feature names\n",
            "Permutation explainer:  99%|█████████▉| 99/100 [00:54<00:00,  1.60it/s]X has feature names, but RandomForestRegressor was fitted without feature names\n",
            "X has feature names, but RandomForestRegressor was fitted without feature names\n",
            "X has feature names, but RandomForestRegressor was fitted without feature names\n",
            "X has feature names, but RandomForestRegressor was fitted without feature names\n",
            "X has feature names, but RandomForestRegressor was fitted without feature names\n",
            "X has feature names, but RandomForestRegressor was fitted without feature names\n",
            "X has feature names, but RandomForestRegressor was fitted without feature names\n",
            "X has feature names, but RandomForestRegressor was fitted without feature names\n",
            "X has feature names, but RandomForestRegressor was fitted without feature names\n",
            "X has feature names, but RandomForestRegressor was fitted without feature names\n",
            "X has feature names, but RandomForestRegressor was fitted without feature names\n",
            "X has feature names, but RandomForestRegressor was fitted without feature names\n",
            "X has feature names, but RandomForestRegressor was fitted without feature names\n",
            "Permutation explainer: 100%|██████████| 100/100 [00:54<00:00,  1.53it/s]X has feature names, but RandomForestRegressor was fitted without feature names\n",
            "X has feature names, but RandomForestRegressor was fitted without feature names\n",
            "X has feature names, but RandomForestRegressor was fitted without feature names\n",
            "X has feature names, but RandomForestRegressor was fitted without feature names\n",
            "X has feature names, but RandomForestRegressor was fitted without feature names\n",
            "X has feature names, but RandomForestRegressor was fitted without feature names\n",
            "X has feature names, but RandomForestRegressor was fitted without feature names\n",
            "X has feature names, but RandomForestRegressor was fitted without feature names\n",
            "X has feature names, but RandomForestRegressor was fitted without feature names\n",
            "X has feature names, but RandomForestRegressor was fitted without feature names\n",
            "X has feature names, but RandomForestRegressor was fitted without feature names\n",
            "X has feature names, but RandomForestRegressor was fitted without feature names\n",
            "X has feature names, but RandomForestRegressor was fitted without feature names\n",
            "Permutation explainer: 101it [00:55,  1.48it/s]\n"
          ]
        }
      ]
    },
    {
      "cell_type": "code",
      "source": [
        "valores_shap"
      ],
      "metadata": {
        "colab": {
          "base_uri": "https://localhost:8080/"
        },
        "id": "wuTGkmCTM4dQ",
        "outputId": "e6cf6f01-aaf1-4f8d-9603-b78c27f0dce0"
      },
      "execution_count": 88,
      "outputs": [
        {
          "output_type": "execute_result",
          "data": {
            "text/plain": [
              ".values =\n",
              "array([[ 3.24881968e+01,  3.28978729e-01,  3.41269184e-01,\n",
              "        -5.62961703e-02, -2.73324050e+00,  1.26223644e-01,\n",
              "        -2.45592761e+00,  3.23996808e-01, -2.42479416e+01,\n",
              "        -3.47164593e+00, -3.40281624e-01,  3.25531726e+01,\n",
              "         1.88495458e+01,  2.94062194e+02, -3.02248800e+00,\n",
              "         1.25259571e+00, -4.23183202e+00, -1.05579409e-01,\n",
              "         2.10596444e-01, -1.06687413e+00]])\n",
              "\n",
              ".base_values =\n",
              "array([[381.6453375]])\n",
              "\n",
              ".data =\n",
              "array([['2000', '1', '0.9', '1', '20', '0', '6', '0.5', '30', '6', '20',\n",
              "        '1900', '800', '6000', '50', '5', '20', '1', '1', '1']],\n",
              "      dtype=object)"
            ]
          },
          "metadata": {},
          "execution_count": 88
        }
      ]
    },
    {
      "cell_type": "code",
      "source": [
        "shap.plots.bar(valores_shap)"
      ],
      "metadata": {
        "colab": {
          "base_uri": "https://localhost:8080/",
          "height": 418
        },
        "id": "iKOvGUjDPtlr",
        "outputId": "dc983ecb-9983-45ec-825b-08b66a62b549"
      },
      "execution_count": 89,
      "outputs": [
        {
          "output_type": "display_data",
          "data": {
            "text/plain": [
              "<Figure size 576x468 with 1 Axes>"
            ],
            "image/png": "[encoded data removed]"
          },
          "metadata": {}
        }
      ]
    },
    {
      "cell_type": "code",
      "source": [
        "shap.plots.bar(valores_shap2)"
      ],
      "metadata": {
        "colab": {
          "base_uri": "https://localhost:8080/",
          "height": 418
        },
        "id": "OAykncJlWhl3",
        "outputId": "f431afe2-4ec1-400f-9914-311767fa7b4d"
      },
      "execution_count": 107,
      "outputs": [
        {
          "output_type": "display_data",
          "data": {
            "text/plain": [
              "<Figure size 576x468 with 1 Axes>"
            ],
            "image/png": "[encoded data removed]"
          },
          "metadata": {}
        }
      ]
    },
    {
      "cell_type": "code",
      "source": [
        "shap.plots.bar(valores_shap2[0])"
      ],
      "metadata": {
        "colab": {
          "base_uri": "https://localhost:8080/",
          "height": 418
        },
        "id": "H6i-S7l3YX16",
        "outputId": "cd65bbb7-a35d-40cf-b65a-7a1020f7e230"
      },
      "execution_count": 108,
      "outputs": [
        {
          "output_type": "display_data",
          "data": {
            "text/plain": [
              "<Figure size 576x468 with 1 Axes>"
            ],
            "image/png": "[encoded data removed]"
          },
          "metadata": {}
        }
      ]
    },
    {
      "cell_type": "code",
      "source": [
        "shap.plots.bar(valores_shap[0])"
      ],
      "metadata": {
        "colab": {
          "base_uri": "https://localhost:8080/",
          "height": 418
        },
        "id": "165j2dptQTgs",
        "outputId": "902e874e-7d4b-41a9-e8a3-1e454cca2f5f"
      },
      "execution_count": 90,
      "outputs": [
        {
          "output_type": "display_data",
          "data": {
            "text/plain": [
              "<Figure size 576x468 with 1 Axes>"
            ],
            "image/png": "[encoded data removed]"
          },
          "metadata": {}
        }
      ]
    },
    {
      "cell_type": "code",
      "source": [
        "plt.figure(figsize=(10,6))\n",
        "shap.summary_plot(valores_shap, features=celular, plot_type='bar')\n",
        "plt.show()"
      ],
      "metadata": {
        "colab": {
          "base_uri": "https://localhost:8080/",
          "height": 693
        },
        "id": "ALluGa-JOTGL",
        "outputId": "fd5eebf7-b965-4dc9-9ee0-ab39d7a05464"
      },
      "execution_count": 67,
      "outputs": [
        {
          "output_type": "display_data",
          "data": {
            "text/plain": [
              "<Figure size 576x684 with 1 Axes>"
            ],
            "image/png": "[encoded data removed]"
          },
          "metadata": {
            "needs_background": "light"
          }
        }
      ]
    }
  ]
}